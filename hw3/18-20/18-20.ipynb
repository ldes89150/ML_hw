{
 "cells": [
  {
   "cell_type": "code",
   "execution_count": 1,
   "metadata": {
    "collapsed": true
   },
   "outputs": [],
   "source": [
    "import numpy as np\n",
    "import pandas as pd"
   ]
  },
  {
   "cell_type": "code",
   "execution_count": 2,
   "metadata": {
    "collapsed": true
   },
   "outputs": [],
   "source": [
    "def theta(s):\n",
    "    return 1.0/(1.0+ np.exp(-s))"
   ]
  },
  {
   "cell_type": "code",
   "execution_count": 3,
   "metadata": {
    "collapsed": false
   },
   "outputs": [],
   "source": [
    "train_data = pd.read_csv(\"http://www.csie.ntu.edu.tw/~htlin/course/ml15fall/hw3/hw3_train.dat\", header=None, sep=\" \")\n",
    "train_data[0] = 1.\n",
    "train_x = np.array(train_data.iloc[:,:-1])\n",
    "train_y = np.array(train_data.iloc[:,-1])\n",
    "test_data = pd.read_csv(\"http://www.csie.ntu.edu.tw/~htlin/course/ml15fall/hw3/hw3_test.dat\", header=None, sep=\" \")\n",
    "test_data[0] = 1.\n",
    "test_x = np.array(test_data.iloc[:,:-1])\n",
    "test_y = np.array(test_data.iloc[:,-1])"
   ]
  },
  {
   "cell_type": "code",
   "execution_count": 4,
   "metadata": {
    "collapsed": false
   },
   "outputs": [],
   "source": [
    "def logistic_gd(x, y, eta, T, stochastic = False):\n",
    "    (N,d) = x.shape\n",
    "    w = np.zeros(d)\n",
    "    for t in xrange(T):\n",
    "        if stochastic:\n",
    "            i = t%N\n",
    "            ngradient = theta(-y[i]*np.dot(x[i],w))*y[i]*x[i]\n",
    "        else:\n",
    "            ngradient = np.dot(theta(-y*np.dot(x,w))*y,x)/N\n",
    "        w = w + eta*ngradient\n",
    "    return w"
   ]
  },
  {
   "cell_type": "code",
   "execution_count": 5,
   "metadata": {
    "collapsed": true
   },
   "outputs": [],
   "source": [
    "def E_out(w):\n",
    "    return 1-np.sum(np.sign(np.dot(test_x,w))==test_y)/float(len(test_y))"
   ]
  },
  {
   "cell_type": "markdown",
   "metadata": {},
   "source": [
    "# Problem 18"
   ]
  },
  {
   "cell_type": "code",
   "execution_count": 6,
   "metadata": {
    "collapsed": false
   },
   "outputs": [
    {
     "name": "stdout",
     "output_type": "stream",
     "text": [
      "[ 0.01878417 -0.01260595  0.04084862 -0.03266317  0.01502334 -0.03667437\n",
      "  0.01255934  0.04815065 -0.02206419  0.02479605  0.06899284  0.0193719\n",
      " -0.01988549 -0.0087049   0.04605863  0.05793382  0.061218   -0.04720391\n",
      "  0.06070375 -0.01610907 -0.03484607]\n",
      "E_out = 0.475\n"
     ]
    }
   ],
   "source": [
    "w = logistic_gd(train_x, train_y, 0.001, 2000)\n",
    "print w\n",
    "print \"E_out =\", E_out(w)"
   ]
  },
  {
   "cell_type": "markdown",
   "metadata": {},
   "source": [
    "# Problem 19"
   ]
  },
  {
   "cell_type": "code",
   "execution_count": 7,
   "metadata": {
    "collapsed": false
   },
   "outputs": [
    {
     "name": "stdout",
     "output_type": "stream",
     "text": [
      "[-0.00385379 -0.18914564  0.26625908 -0.35356593  0.04088776 -0.3794296\n",
      "  0.01982783  0.33391527 -0.26386754  0.13489328  0.4914191   0.08726107\n",
      " -0.25537728 -0.16291797  0.30073678  0.40014954  0.43218808 -0.46227968\n",
      "  0.43230193 -0.20786372 -0.36936337]\n",
      "E_out = 0.22\n"
     ]
    }
   ],
   "source": [
    "w = logistic_gd(train_x, train_y, 0.01, 2000)\n",
    "print w\n",
    "print \"E_out =\", E_out(w)"
   ]
  },
  {
   "cell_type": "markdown",
   "metadata": {},
   "source": [
    "# Problem 20"
   ]
  },
  {
   "cell_type": "code",
   "execution_count": 8,
   "metadata": {
    "collapsed": false
   },
   "outputs": [
    {
     "name": "stdout",
     "output_type": "stream",
     "text": [
      "[ 0.01826899 -0.01308051  0.04072894 -0.03295698  0.01498363 -0.03691042\n",
      "  0.01232819  0.04791334 -0.02244958  0.02470544  0.06878235  0.01897378\n",
      " -0.02032107 -0.00901469  0.04589259  0.05776824  0.06102487 -0.04756147\n",
      "  0.06035018 -0.01660574 -0.03509342]\n",
      "E_out = 0.473\n"
     ]
    }
   ],
   "source": [
    "w = logistic_gd(train_x, train_y, 0.001, 2000, True)\n",
    "print w\n",
    "print \"E_out =\", E_out(w)"
   ]
  }
 ],
 "metadata": {
  "kernelspec": {
   "display_name": "Python 2",
   "language": "python",
   "name": "python2"
  },
  "language_info": {
   "codemirror_mode": {
    "name": "ipython",
    "version": 2
   },
   "file_extension": ".py",
   "mimetype": "text/x-python",
   "name": "python",
   "nbconvert_exporter": "python",
   "pygments_lexer": "ipython2",
   "version": "2.7.6"
  }
 },
 "nbformat": 4,
 "nbformat_minor": 0
}
