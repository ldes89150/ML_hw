{
 "cells": [
  {
   "cell_type": "code",
   "execution_count": 1,
   "metadata": {
    "collapsed": true
   },
   "outputs": [],
   "source": [
    "import numpy as np\n",
    "import matplotlib.pyplot as plt\n",
    "plt.style.use('ggplot')\n",
    "%matplotlib inline"
   ]
  },
  {
   "cell_type": "code",
   "execution_count": 2,
   "metadata": {
    "collapsed": true
   },
   "outputs": [],
   "source": [
    "def get_training_sample(i = None):\n",
    "    np.random.seed(i)\n",
    "    sample = np.random.uniform(-1,1,20)\n",
    "    sample = np.sort(sample)\n",
    "    return sample\n",
    "\n",
    "def f(x, i = None, error_rate = 0.2):\n",
    "    np.random.seed(i)\n",
    "    noise_flip = np.sign(np.random.uniform(-error_rate, 1-error_rate,20))\n",
    "    y = np.sign(x)*noise_flip\n",
    "    return y\n",
    "\n",
    "def h(x, theta ,s):\n",
    "    return s*np.sign(x-theta)\n",
    "\n",
    "def get_hyposis_set(x):\n",
    "    mediate= [(x[:-1]+x[1:])/2, np.array([1]), (x[:-1]+x[1:])/2, np.array([1])]\n",
    "    theta_vector = np.concatenate(mediate)\n",
    "    n = len(x)\n",
    "    s_vector = np.concatenate([[1 for i in range(n)],[-1 for i in range(n)]])\n",
    "    return theta_vector, s_vector\n",
    "\n",
    "def E_in(x, y, theta, s):\n",
    "    result = h(x, theta, s) == y\n",
    "    return 1- np.average(result)\n",
    "\n",
    "def E_out(theta, s):\n",
    "    return 0.5+0.3*s*(np.abs(theta)-1)"
   ]
  },
  {
   "cell_type": "code",
   "execution_count": 3,
   "metadata": {
    "collapsed": false
   },
   "outputs": [],
   "source": [
    "best_s = []\n",
    "best_theta = []\n",
    "best_E_in = []\n",
    "best_E_out = []\n",
    "for i in xrange(5000):\n",
    "    x = get_training_sample(i)\n",
    "    y = f(x, i, error_rate=0.2)\n",
    "    theta_vector, s_vector = get_hyposis_set(x)\n",
    "    best_round_E_in = 1\n",
    "    best_round_theta = None\n",
    "    best_round_s = None\n",
    "    for j in xrange(2*len(x)):\n",
    "        theta = theta_vector[j]\n",
    "        s = s_vector[j]\n",
    "        round_E_in = E_in(x, y, theta, s)\n",
    "        if round_E_in < best_round_E_in:\n",
    "            best_round_theta = theta\n",
    "            best_round_s = s\n",
    "            best_round_E_in = round_E_in\n",
    "    best_s.append(best_round_s)\n",
    "    best_theta.append(best_round_theta)\n",
    "    best_E_in.append(best_round_E_in)\n",
    "    best_E_out.append(E_out(best_round_theta, best_round_s))\n"
   ]
  },
  {
   "cell_type": "code",
   "execution_count": 4,
   "metadata": {
    "collapsed": false
   },
   "outputs": [
    {
     "data": {
      "image/png": "[encoded data removed]",
      "text/plain": [
       "<matplotlib.figure.Figure at 0x9357b00>"
      ]
     },
     "metadata": {},
     "output_type": "display_data"
    }
   ],
   "source": [
    "plt.figure()\n",
    "plt.subplot(2,1,1)\n",
    "plt.hist(best_E_in, color = \"blue\", label=r'$E_{in}$')\n",
    "plt.legend()\n",
    "plt.subplot(2,1,2)\n",
    "plt.hist(best_E_out, color = \"red\" ,label = r'$E_{out}$')\n",
    "plt.legend()\n",
    "plt.savefig(\"p17\")"
   ]
  },
  {
   "cell_type": "code",
   "execution_count": 5,
   "metadata": {
    "collapsed": false
   },
   "outputs": [
    {
     "name": "stdout",
     "output_type": "stream",
     "text": [
      "average E_in: 0.16913\n",
      "average E_out: 0.25708944831\n"
     ]
    }
   ],
   "source": [
    "print \"average E_in:\" , np.average(best_E_in)\n",
    "print \"average E_out:\", np.average(best_E_out)"
   ]
  }
 ],
 "metadata": {
  "kernelspec": {
   "display_name": "Python 2",
   "language": "python",
   "name": "python2"
  },
  "language_info": {
   "codemirror_mode": {
    "name": "ipython",
    "version": 2
   },
   "file_extension": ".py",
   "mimetype": "text/x-python",
   "name": "python",
   "nbconvert_exporter": "python",
   "pygments_lexer": "ipython2",
   "version": "2.7.6"
  }
 },
 "nbformat": 4,
 "nbformat_minor": 0
}
