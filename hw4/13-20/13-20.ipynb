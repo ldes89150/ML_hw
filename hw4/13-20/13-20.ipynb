{
 "cells": [
  {
   "cell_type": "code",
   "execution_count": 1,
   "metadata": {
    "collapsed": true
   },
   "outputs": [],
   "source": [
    "import numpy as np\n",
    "import pandas as pd\n",
    "import matplotlib.pyplot as plt\n",
    "from sklearn.cross_validation import KFold\n",
    "plt.style.use('ggplot')\n",
    "%matplotlib inline"
   ]
  },
  {
   "cell_type": "code",
   "execution_count": 2,
   "metadata": {
    "collapsed": false
   },
   "outputs": [],
   "source": [
    "train_data = pd.read_csv(\"http://www.csie.ntu.edu.tw/~htlin/course/ml15fall/hw4/hw4_train.dat\", header=None, sep=\" \")\n",
    "train_data.insert(0,'w0',1.)\n",
    "train_x = np.array(train_data.iloc[:,:-1])\n",
    "train_y = np.array(train_data.iloc[:,-1])\n",
    "test_data = pd.read_csv(\"http://www.csie.ntu.edu.tw/~htlin/course/ml15fall/hw4/hw4_test.dat\", header=None, sep=\" \")\n",
    "test_data.insert(0,'w0', 1.)\n",
    "test_x = np.array(test_data.iloc[:,:-1])\n",
    "test_y = np.array(test_data.iloc[:,-1])\n",
    "# Problem 16-20\n",
    "train_x_new = train_x[:120]\n",
    "train_y_new = train_y[:120]\n",
    "train_x_valid = train_x[-80:]\n",
    "train_y_valid = train_y[-80:]"
   ]
  },
  {
   "cell_type": "code",
   "execution_count": 3,
   "metadata": {
    "collapsed": false
   },
   "outputs": [],
   "source": [
    "def ridge_regression(x, y, lamb=0):\n",
    "    A = np.linalg.pinv(np.dot(x,x.transpose())+lamb*np.identity(x.shape[0]))\n",
    "    return np.dot(y, np.dot(A,x))\n",
    "def g(x, w):\n",
    "    return np.sign(np.dot(x, w))\n",
    "def E(g, y):\n",
    "    return 1-np.sum(g==y)/float(len(g))"
   ]
  },
  {
   "cell_type": "markdown",
   "metadata": {},
   "source": [
    "# Problem 13"
   ]
  },
  {
   "cell_type": "code",
   "execution_count": 4,
   "metadata": {
    "collapsed": false
   },
   "outputs": [
    {
     "name": "stdout",
     "output_type": "stream",
     "text": [
      "E_in = 0.055\n",
      "E_out = 0.052\n"
     ]
    }
   ],
   "source": [
    "w_reg_13 = ridge_regression(train_x, train_y, 11.26)\n",
    "E_in = E(g(train_x, w_reg_13), train_y)\n",
    "E_out = E(g(test_x, w_reg_13), test_y)\n",
    "print \"E_in =\", E_in\n",
    "print \"E_out =\", E_out"
   ]
  },
  {
   "cell_type": "markdown",
   "metadata": {},
   "source": [
    "# Problem 14 & 15"
   ]
  },
  {
   "cell_type": "code",
   "execution_count": 5,
   "metadata": {
    "collapsed": false
   },
   "outputs": [
    {
     "data": {
      "text/plain": [
       "<matplotlib.legend.Legend at 0x33cfb00>"
      ]
     },
     "execution_count": 5,
     "metadata": {},
     "output_type": "execute_result"
    },
    {
     "data": {
      "image/png": "[encoded data removed]",
      "text/plain": [
       "<matplotlib.figure.Figure at 0x33cfbe0>"
      ]
     },
     "metadata": {},
     "output_type": "display_data"
    }
   ],
   "source": [
    "log_lambda = range(-10,3)\n",
    "log_lambda.reverse()\n",
    "lambdas = [10**i for i in log_lambda]\n",
    "w_reg_14 = [ridge_regression(train_x, train_y, l) for l in lambdas]\n",
    "E_in_14 = [E(g(train_x, w), train_y) for w in w_reg_14]\n",
    "E_out_14 = [E(g(test_x, w), test_y) for w in w_reg_14]\n",
    "plt.plot(log_lambda, E_in_14,'o', label = r\"$E_{in}$\")\n",
    "plt.plot(log_lambda, E_out_14,'o', label = r\"$E_{out}$\")\n",
    "plt.xlabel(r\"$log_{10}\\lambda$\")\n",
    "plt.legend(loc = 2)"
   ]
  },
  {
   "cell_type": "markdown",
   "metadata": {},
   "source": [
    "## Problem 14"
   ]
  },
  {
   "cell_type": "code",
   "execution_count": 6,
   "metadata": {
    "collapsed": false
   },
   "outputs": [
    {
     "name": "stdout",
     "output_type": "stream",
     "text": [
      "log_10(lambda) = -8\n",
      "E_in = 0.015\n",
      "E_out = 0.02\n"
     ]
    }
   ],
   "source": [
    "i = np.argmin(E_in_14)\n",
    "print \"log_10(lambda) =\", log_lambda[i]\n",
    "print \"E_in =\", E_in_14[i]\n",
    "print \"E_out =\", E_out_14[i]"
   ]
  },
  {
   "cell_type": "markdown",
   "metadata": {},
   "source": [
    "## Problem 15"
   ]
  },
  {
   "cell_type": "code",
   "execution_count": 7,
   "metadata": {
    "collapsed": false
   },
   "outputs": [
    {
     "name": "stdout",
     "output_type": "stream",
     "text": [
      "log_10(lambda) = -7\n",
      "E_in = 0.03\n",
      "E_out = 0.015\n"
     ]
    }
   ],
   "source": [
    "i = np.argmin(E_out_14)\n",
    "print \"log_10(lambda) =\", log_lambda[i]\n",
    "print \"E_in =\", E_in_14[i]\n",
    "print \"E_out =\", E_out_14[i]"
   ]
  },
  {
   "cell_type": "markdown",
   "metadata": {},
   "source": [
    "# Problem 16 & 17"
   ]
  },
  {
   "cell_type": "code",
   "execution_count": 8,
   "metadata": {
    "collapsed": false
   },
   "outputs": [
    {
     "data": {
      "text/plain": [
       "<matplotlib.legend.Legend at 0xc2dd908>"
      ]
     },
     "execution_count": 8,
     "metadata": {},
     "output_type": "execute_result"
    },
    {
     "data": {
      "image/png": "[encoded data removed]",
      "text/plain": [
       "<matplotlib.figure.Figure at 0x9c54b00>"
      ]
     },
     "metadata": {},
     "output_type": "display_data"
    }
   ],
   "source": [
    "w_reg_16 = [ridge_regression(train_x_new, train_y_new, l) for l in lambdas]\n",
    "E_train_16 = [E(g(train_x_new, w), train_y_new) for w in w_reg_16]\n",
    "E_val_16 = [E(g(train_x_valid, w), train_y_valid) for w in w_reg_16]\n",
    "E_out_16 = [E(g(test_x, w), test_y) for w in w_reg_16]\n",
    "plt.plot(log_lambda, E_train_16,'o', label = r\"$E_{train}$\")\n",
    "plt.plot(log_lambda, E_val_16,'o', label = r\"$E_{val}$\")\n",
    "plt.plot(log_lambda, E_out_16,'o', label = r\"$E_{out}$\")\n",
    "plt.xlabel(r\"$log_{10}\\lambda$\")\n",
    "plt.legend(loc = 2)"
   ]
  },
  {
   "cell_type": "markdown",
   "metadata": {},
   "source": [
    "## Problem 16"
   ]
  },
  {
   "cell_type": "code",
   "execution_count": 9,
   "metadata": {
    "collapsed": false
   },
   "outputs": [
    {
     "name": "stdout",
     "output_type": "stream",
     "text": [
      "log_10(lambda) = -8\n",
      "E_train = 0.0\n",
      "E_val = 0.05\n",
      "E_out = 0.025\n"
     ]
    }
   ],
   "source": [
    "i = np.argmin(E_train_16)\n",
    "print \"log_10(lambda) =\", log_lambda[i]\n",
    "print \"E_train =\", E_train_16[i]\n",
    "print \"E_val =\", E_val_16[i]\n",
    "print \"E_out =\", E_out_16[i]"
   ]
  },
  {
   "cell_type": "markdown",
   "metadata": {},
   "source": [
    "## Problem 17"
   ]
  },
  {
   "cell_type": "code",
   "execution_count": 10,
   "metadata": {
    "collapsed": false
   },
   "outputs": [
    {
     "name": "stdout",
     "output_type": "stream",
     "text": [
      "log_10(lambda) = 0\n",
      "E_train = 0.0333333333333\n",
      "E_val = 0.0375\n",
      "E_out = 0.028\n"
     ]
    }
   ],
   "source": [
    "i = np.argmin(E_val_16)\n",
    "print \"log_10(lambda) =\", log_lambda[i]\n",
    "print \"E_train =\", E_train_16[i]\n",
    "print \"E_val =\", E_val_16[i]\n",
    "print \"E_out =\", E_out_16[i]\n",
    "best_i = i"
   ]
  },
  {
   "cell_type": "markdown",
   "metadata": {},
   "source": [
    "# Problem 18"
   ]
  },
  {
   "cell_type": "code",
   "execution_count": 11,
   "metadata": {
    "collapsed": false
   },
   "outputs": [
    {
     "name": "stdout",
     "output_type": "stream",
     "text": [
      "E_in = 0.035\n",
      "E_out = 0.02\n"
     ]
    }
   ],
   "source": [
    "w_reg_18 = ridge_regression(train_x, train_y, lambdas[best_i])\n",
    "E_in = E(g(train_x, w_reg_18), train_y)\n",
    "E_out = E(g(test_x, w_reg_18), test_y)\n",
    "print \"E_in =\", E_in\n",
    "print \"E_out =\", E_out"
   ]
  },
  {
   "cell_type": "markdown",
   "metadata": {},
   "source": [
    "# Problem 19"
   ]
  },
  {
   "cell_type": "code",
   "execution_count": 12,
   "metadata": {
    "collapsed": false
   },
   "outputs": [],
   "source": [
    "E_cv = []\n",
    "for l in lambdas:\n",
    "    e = []\n",
    "    for train , valid in KFold(200, 5):\n",
    "        w_reg = ridge_regression(train_x[train], train_y[train], l)\n",
    "        e.append(E(g(train_x[valid], w_reg), train_y[valid]))\n",
    "    E_cv.append(np.mean(e))"
   ]
  },
  {
   "cell_type": "code",
   "execution_count": 13,
   "metadata": {
    "collapsed": false
   },
   "outputs": [
    {
     "data": {
      "image/png": "[encoded data removed]",
      "text/plain": [
       "<matplotlib.figure.Figure at 0xc2dd828>"
      ]
     },
     "metadata": {},
     "output_type": "display_data"
    },
    {
     "name": "stdout",
     "output_type": "stream",
     "text": [
      "log_10(lambda) = -8\n",
      "E_cvl = 0.03\n"
     ]
    }
   ],
   "source": [
    "plt.plot(log_lambda, E_cv,'o', label = r\"$E_{cv}$\")\n",
    "plt.xlabel(r\"$log_{10}\\lambda$\")\n",
    "plt.legend(loc = 2)\n",
    "plt.show()\n",
    "i = np.argmin(E_cv)\n",
    "print \"log_10(lambda) =\", log_lambda[i]\n",
    "print \"E_cvl =\", E_cv[i]\n",
    "best_i = i"
   ]
  },
  {
   "cell_type": "markdown",
   "metadata": {},
   "source": [
    "# Problem 20"
   ]
  },
  {
   "cell_type": "code",
   "execution_count": 14,
   "metadata": {
    "collapsed": false
   },
   "outputs": [
    {
     "name": "stdout",
     "output_type": "stream",
     "text": [
      "E_in = 0.015\n",
      "E_out = 0.02\n"
     ]
    }
   ],
   "source": [
    "w_reg_20 = ridge_regression(train_x, train_y, lambdas[best_i])\n",
    "E_in = E(g(train_x, w_reg_20), train_y)\n",
    "E_out = E(g(test_x, w_reg_20), test_y)\n",
    "print \"E_in =\", E_in\n",
    "print \"E_out =\", E_out"
   ]
  }
 ],
 "metadata": {
  "kernelspec": {
   "display_name": "Python 2",
   "language": "python",
   "name": "python2"
  },
  "language_info": {
   "codemirror_mode": {
    "name": "ipython",
    "version": 2
   },
   "file_extension": ".py",
   "mimetype": "text/x-python",
   "name": "python",
   "nbconvert_exporter": "python",
   "pygments_lexer": "ipython2",
   "version": "2.7.6"
  }
 },
 "nbformat": 4,
 "nbformat_minor": 0
}
