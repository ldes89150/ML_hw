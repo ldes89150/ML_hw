{
 "cells": [
  {
   "cell_type": "code",
   "execution_count": 1,
   "metadata": {
    "collapsed": true
   },
   "outputs": [],
   "source": [
    "import numpy as np\n",
    "import pandas as pd\n",
    "import matplotlib.pyplot as plt\n",
    "plt.style.use('ggplot')\n",
    "%matplotlib inline"
   ]
  },
  {
   "cell_type": "code",
   "execution_count": 2,
   "metadata": {
    "collapsed": false
   },
   "outputs": [],
   "source": [
    "train_data = pd.read_csv(\"http://www.amlbook.com/data/zip/features.train\", header=None, delim_whitespace = True)\n",
    "train_x = np.array(train_data.iloc[:,1:])\n",
    "train_y = np.array(train_data.iloc[:,0])\n",
    "test_data = pd.read_csv(\"http://www.amlbook.com/data/zip/features.test\", header=None, delim_whitespace = True)\n",
    "test_x = np.array(test_data.iloc[:,1:])\n",
    "test_y = np.array(test_data.iloc[:,0])"
   ]
  },
  {
   "cell_type": "markdown",
   "metadata": {},
   "source": [
    "# Problem 15"
   ]
  },
  {
   "cell_type": "code",
   "execution_count": 3,
   "metadata": {
    "collapsed": false
   },
   "outputs": [],
   "source": [
    "from sklearn.svm import SVC"
   ]
  },
  {
   "cell_type": "code",
   "execution_count": 4,
   "metadata": {
    "collapsed": false
   },
   "outputs": [],
   "source": [
    "log_C = [ -6, -4, -2, 0, 2]\n",
    "C = [10**i for i in log_C]\n",
    "clfs15 = []\n",
    "for c in C:\n",
    "    clf = SVC(kernel=\"linear\", C=c)\n",
    "    clf.fit(train_x, train_y == 0)\n",
    "    clfs15.append(clf)"
   ]
  },
  {
   "cell_type": "code",
   "execution_count": 5,
   "metadata": {
    "collapsed": false
   },
   "outputs": [
    {
     "data": {
      "text/plain": [
       "[6.0206550090759889e-05,\n",
       " 0.0060189611378155235,\n",
       " 0.57131714942568668,\n",
       " 11.328063062535298,\n",
       " 13.092344116324556]"
      ]
     },
     "execution_count": 5,
     "metadata": {},
     "output_type": "execute_result"
    }
   ],
   "source": [
    "w_length_15 = [np.linalg.norm(clf.coef_[0]) for clf in clfs15]\n",
    "w_length_15"
   ]
  },
  {
   "cell_type": "code",
   "execution_count": 6,
   "metadata": {
    "collapsed": false
   },
   "outputs": [
    {
     "data": {
      "image/png": "[encoded data removed]",
      "text/plain": [
       "<matplotlib.figure.Figure at 0xca2cf98>"
      ]
     },
     "metadata": {},
     "output_type": "display_data"
    }
   ],
   "source": [
    "plt.plot(log_C, w_length_15)\n",
    "plt.xlabel(r\"$log_{10}C$\")\n",
    "plt.ylabel(r\"$|\\bf{w}|$\")\n",
    "plt.savefig(\"15\")"
   ]
  },
  {
   "cell_type": "markdown",
   "metadata": {},
   "source": [
    "# Problem 16"
   ]
  },
  {
   "cell_type": "code",
   "execution_count": 7,
   "metadata": {
    "collapsed": false
   },
   "outputs": [],
   "source": [
    "clfs16 = []\n",
    "for c in C:\n",
    "    clf = SVC(kernel=\"poly\", C=c, coef0= 1, degree= 2, gamma= 1)\n",
    "    clf.fit(train_x, train_y == 8)\n",
    "    clfs16.append(clf)"
   ]
  },
  {
   "cell_type": "code",
   "execution_count": 8,
   "metadata": {
    "collapsed": true
   },
   "outputs": [],
   "source": [
    "from sklearn.metrics import zero_one_loss"
   ]
  },
  {
   "cell_type": "code",
   "execution_count": 9,
   "metadata": {
    "collapsed": false
   },
   "outputs": [
    {
     "data": {
      "text/plain": [
       "[0.074338225209162001,\n",
       " 0.074338225209162001,\n",
       " 0.074338225209162001,\n",
       " 0.074338225209162001,\n",
       " 0.074338225209162001]"
      ]
     },
     "execution_count": 9,
     "metadata": {},
     "output_type": "execute_result"
    }
   ],
   "source": [
    "E_in_16 = [zero_one_loss(clf.predict(train_x), train_y == 8) for clf in clfs16]\n",
    "E_in_16"
   ]
  },
  {
   "cell_type": "code",
   "execution_count": 10,
   "metadata": {
    "collapsed": false
   },
   "outputs": [
    {
     "data": {
      "image/png": "[encoded data removed]",
      "text/plain": [
       "<matplotlib.figure.Figure at 0xe05d4e0>"
      ]
     },
     "metadata": {},
     "output_type": "display_data"
    }
   ],
   "source": [
    "plt.plot(log_C, E_in_16)\n",
    "plt.xlabel(r\"$log_{10}C$\")\n",
    "plt.ylabel(r\"$E_{in}$\")\n",
    "plt.savefig(\"16\")"
   ]
  },
  {
   "cell_type": "markdown",
   "metadata": {},
   "source": [
    "# Problem 17"
   ]
  },
  {
   "cell_type": "code",
   "execution_count": 11,
   "metadata": {
    "collapsed": false
   },
   "outputs": [
    {
     "data": {
      "text/plain": [
       "[0.0010839999999999999, 0.10840000000000002, 10.84, 1084.0, 108400.0]"
      ]
     },
     "execution_count": 11,
     "metadata": {},
     "output_type": "execute_result"
    }
   ],
   "source": [
    "sum_alpha = [np.sum(np.abs(clf.dual_coef_)) for clf in clfs16]\n",
    "sum_alpha"
   ]
  },
  {
   "cell_type": "code",
   "execution_count": 12,
   "metadata": {
    "collapsed": false
   },
   "outputs": [
    {
     "data": {
      "image/png": "[encoded data removed]",
      "text/plain": [
       "<matplotlib.figure.Figure at 0x12218048>"
      ]
     },
     "metadata": {},
     "output_type": "display_data"
    }
   ],
   "source": [
    "plt.plot(log_C, np.log10(sum_alpha))\n",
    "plt.xlabel(r\"$log_{10}C$\")\n",
    "plt.ylabel(r\"$log_{10}(\\Sigma \\alpha)$\")\n",
    "plt.savefig(\"17\")"
   ]
  },
  {
   "cell_type": "markdown",
   "metadata": {},
   "source": [
    "# Problem 18"
   ]
  },
  {
   "cell_type": "code",
   "execution_count": 13,
   "metadata": {
    "collapsed": true
   },
   "outputs": [],
   "source": [
    "log_C18 = [-3, -2, -1, 0, 1]\n",
    "C18 = [10**i for i in log_C18]\n",
    "clfs18 = []\n",
    "for c in C18:\n",
    "    clf = SVC(kernel=\"rbf\", C=c, gamma= 100)\n",
    "    clf.fit(train_x, train_y == 0)\n",
    "    clfs18.append(clf)"
   ]
  },
  {
   "cell_type": "code",
   "execution_count": 14,
   "metadata": {
    "collapsed": false
   },
   "outputs": [
    {
     "data": {
      "text/plain": [
       "[1.8036469037504859,\n",
       " 0.17886074176667,\n",
       " 0.025912479022500053,\n",
       " 0.01604993328313864,\n",
       " 0.015338957578869931]"
      ]
     },
     "execution_count": 14,
     "metadata": {},
     "output_type": "execute_result"
    }
   ],
   "source": [
    "# http://stackoverflow.com/questions/27050055/is-there-a-reason-that-scikit-learn-only-allows-access-to-clf-coef-with-linear\n",
    "distance = [1/np.linalg.norm(np.dot(clf.dual_coef_, clf.support_vectors_)) for clf in clfs18]\n",
    "distance"
   ]
  },
  {
   "cell_type": "code",
   "execution_count": 15,
   "metadata": {
    "collapsed": false
   },
   "outputs": [
    {
     "data": {
      "image/png": "[encoded data removed]",
      "text/plain": [
       "<matplotlib.figure.Figure at 0xe05d9e8>"
      ]
     },
     "metadata": {},
     "output_type": "display_data"
    }
   ],
   "source": [
    "plt.plot(log_C18, distance)\n",
    "plt.xlabel(r\"$log_{10}C$\")\n",
    "plt.ylabel(\"distance\")\n",
    "plt.savefig(\"18\")"
   ]
  },
  {
   "cell_type": "markdown",
   "metadata": {},
   "source": [
    "# Problem 19"
   ]
  },
  {
   "cell_type": "code",
   "execution_count": 16,
   "metadata": {
    "collapsed": true
   },
   "outputs": [],
   "source": [
    "log_gamma = [0,1,2,3,4]\n",
    "gamma = [10**i for i in log_gamma]\n",
    "clfs19 = []\n",
    "for g in gamma:\n",
    "    clf = SVC(kernel=\"rbf\", C=0.1, gamma= g)\n",
    "    clf.fit(train_x, train_y == 0)\n",
    "    clfs19.append(clf)"
   ]
  },
  {
   "cell_type": "code",
   "execution_count": 17,
   "metadata": {
    "collapsed": false
   },
   "outputs": [
    {
     "data": {
      "text/plain": [
       "[0.10712506228201291,\n",
       " 0.09915296462381662,\n",
       " 0.10513203786746383,\n",
       " 0.17887394120577982,\n",
       " 0.17887394120577982]"
      ]
     },
     "execution_count": 17,
     "metadata": {},
     "output_type": "execute_result"
    }
   ],
   "source": [
    "E_out_19 = [zero_one_loss(clf.predict(test_x), test_y == 0) for clf in clfs19]\n",
    "E_out_19"
   ]
  },
  {
   "cell_type": "code",
   "execution_count": 18,
   "metadata": {
    "collapsed": false
   },
   "outputs": [
    {
     "data": {
      "image/png": "[encoded data removed]",
      "text/plain": [
       "<matplotlib.figure.Figure at 0xe06e2e8>"
      ]
     },
     "metadata": {},
     "output_type": "display_data"
    }
   ],
   "source": [
    "plt.plot(log_gamma, E_out_19)\n",
    "plt.xlabel(r\"$log_{10} \\gamma$\")\n",
    "plt.ylabel(r\"$E_{out}$\")\n",
    "plt.savefig(\"19\")"
   ]
  },
  {
   "cell_type": "markdown",
   "metadata": {},
   "source": [
    "# Problem 20"
   ]
  },
  {
   "cell_type": "code",
   "execution_count": null,
   "metadata": {
    "collapsed": true
   },
   "outputs": [],
   "source": [
    "from sklearn import cross_validation"
   ]
  },
  {
   "cell_type": "code",
   "execution_count": null,
   "metadata": {
    "collapsed": false
   },
   "outputs": [],
   "source": [
    "log_gamma_min = []\n",
    "for train_index, valid_index in cross_validation.ShuffleSplit(len(train_y), n_iter=100, test_size=1000):\n",
    "    clfs20 = []\n",
    "    for g in gamma:\n",
    "        clf = SVC(kernel=\"rbf\", C=0.1, gamma= g)\n",
    "        clf.fit(train_x[train_index], train_y[train_index] == 0)\n",
    "        clfs20.append(clf)\n",
    "    E_val_20 = [zero_one_loss(clf.predict(train_x[valid_index]), train_y[valid_index] == 0) for clf in clfs20]\n",
    "    i = np.argmin(E_val_20)\n",
    "    log_gamma_min.append(log_gamma[i])"
   ]
  },
  {
   "cell_type": "code",
   "execution_count": null,
   "metadata": {
    "collapsed": false
   },
   "outputs": [],
   "source": [
    "plt.hist(log_gamma_min, bins=5, range=(-0.5,4.5))\n",
    "plt.xlabel(r\"$log_{10} \\gamma$\")\n",
    "plt.ylabel(\"times\")\n",
    "plt.savefig(\"20\")"
   ]
  }
 ],
 "metadata": {
  "kernelspec": {
   "display_name": "Python 2",
   "language": "python",
   "name": "python2"
  },
  "language_info": {
   "codemirror_mode": {
    "name": "ipython",
    "version": 2
   },
   "file_extension": ".py",
   "mimetype": "text/x-python",
   "name": "python",
   "nbconvert_exporter": "python",
   "pygments_lexer": "ipython2",
   "version": "2.7.6"
  }
 },
 "nbformat": 4,
 "nbformat_minor": 0
}
