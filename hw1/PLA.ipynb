{
 "cells": [
  {
   "cell_type": "code",
   "execution_count": 1,
   "metadata": {
    "collapsed": false
   },
   "outputs": [],
   "source": [
    "import numpy as np\n",
    "import pandas as pd\n",
    "import matplotlib.pyplot as plt\n",
    "import random\n",
    "%matplotlib inline"
   ]
  },
  {
   "cell_type": "code",
   "execution_count": 2,
   "metadata": {
    "collapsed": false
   },
   "outputs": [],
   "source": [
    "train_data = pd.read_csv(\"hw1_15_train.dat\",\n",
    "                         names = [\"x{0}\".format(i) for i in range(1,5)]+[\"y\"],\n",
    "                         delim_whitespace=True)\n",
    "train_data.insert(0,\"x0\",1)\n",
    "x = np.array(train_data.iloc[:,:-1])\n",
    "y = np.array(train_data[\"y\"])"
   ]
  },
  {
   "cell_type": "code",
   "execution_count": 3,
   "metadata": {
    "collapsed": false
   },
   "outputs": [],
   "source": [
    "def sign(n):\n",
    "    if n>0:\n",
    "        return 1\n",
    "    else:\n",
    "        return -1"
   ]
  },
  {
   "cell_type": "code",
   "execution_count": 4,
   "metadata": {
    "collapsed": false
   },
   "outputs": [],
   "source": [
    "def PLA(w0,index_order, learning_rate = 1.0):\n",
    "    iter_number = 0\n",
    "    w=w0\n",
    "    last_mistake_index = None\n",
    "    index_order = np.array(index_order)\n",
    "    learning_rate_vector = np.zeros_like(w0)+learning_rate\n",
    "    learning_rate_vector[0] = 1.0\n",
    "    while True:\n",
    "        find_mistake = False\n",
    "        for i in index_order:\n",
    "            product = sum(x[i]*w)\n",
    "            if not sign(product) == sign(y[i]):\n",
    "                w = w + x[i]*learning_rate_vector*y[i]\n",
    "                iter_number +=1\n",
    "                find_mistake = True\n",
    "                last_mistake_index = i\n",
    "                continue\n",
    "        if not find_mistake:\n",
    "            break\n",
    "    return {\"iteration_number\":iter_number,\n",
    "            \"last_mistake_index\":last_mistake_index, \n",
    "            \"w\":np.array(w)}"
   ]
  },
  {
   "cell_type": "markdown",
   "metadata": {},
   "source": [
    "## Problem 15"
   ]
  },
  {
   "cell_type": "code",
   "execution_count": 5,
   "metadata": {
    "collapsed": false
   },
   "outputs": [
    {
     "data": {
      "text/plain": [
       "{'iteration_number': 45,\n",
       " 'last_mistake_index': 135,\n",
       " 'w': array([-3.       ,  3.0841436, -1.583081 ,  2.391305 ,  4.5287635])}"
      ]
     },
     "execution_count": 5,
     "metadata": {},
     "output_type": "execute_result"
    }
   ],
   "source": [
    "PLA(np.zeros((5,)),range(len(y)))"
   ]
  },
  {
   "cell_type": "markdown",
   "metadata": {},
   "source": [
    "## Problem 16"
   ]
  },
  {
   "cell_type": "code",
   "execution_count": 6,
   "metadata": {
    "collapsed": false
   },
   "outputs": [],
   "source": [
    "iteration_number_set = []\n",
    "for i in range(2000):\n",
    "    index_order = range(len(y))\n",
    "    random.seed(i)\n",
    "    random.shuffle(index_order)\n",
    "    w0 = np.zeros((5,))\n",
    "    n = PLA(w0,index_order)[\"iteration_number\"]\n",
    "    iteration_number_set.append(n)"
   ]
  },
  {
   "cell_type": "code",
   "execution_count": 7,
   "metadata": {
    "collapsed": false
   },
   "outputs": [
    {
     "name": "stdout",
     "output_type": "stream",
     "text": [
      "Average Number: 39.9595\n"
     ]
    },
    {
     "data": {
      "image/png": "[encoded data removed]",
      "text/plain": [
       "<matplotlib.figure.Figure at 0x9a4f9e8>"
      ]
     },
     "metadata": {},
     "output_type": "display_data"
    }
   ],
   "source": [
    "print \"Average Number:\", np.average(iteration_number_set)\n",
    "plt.hist(iteration_number_set)\n",
    "plt.savefig(\"p16\")"
   ]
  },
  {
   "cell_type": "markdown",
   "metadata": {},
   "source": [
    "## Problem 17"
   ]
  },
  {
   "cell_type": "code",
   "execution_count": 8,
   "metadata": {
    "collapsed": false
   },
   "outputs": [],
   "source": [
    "iteration_number_set = []\n",
    "for i in range(2000):\n",
    "    index_order = range(len(y))\n",
    "    random.seed(i)\n",
    "    random.shuffle(index_order)\n",
    "    w0 = np.zeros((5,))\n",
    "    n = PLA(w0,index_order,learning_rate=0.5)[\"iteration_number\"]\n",
    "    iteration_number_set.append(n)"
   ]
  },
  {
   "cell_type": "code",
   "execution_count": 9,
   "metadata": {
    "collapsed": false
   },
   "outputs": [
    {
     "name": "stdout",
     "output_type": "stream",
     "text": [
      "Average Number: 41.9275\n"
     ]
    },
    {
     "data": {
      "image/png": "[encoded data removed]",
      "text/plain": [
       "<matplotlib.figure.Figure at 0x9c72c88>"
      ]
     },
     "metadata": {},
     "output_type": "display_data"
    }
   ],
   "source": [
    "print \"Average Number:\", np.average(iteration_number_set)\n",
    "plt.hist(iteration_number_set)\n",
    "plt.savefig(\"p17.jpg\")"
   ]
  }
 ],
 "metadata": {
  "kernelspec": {
   "display_name": "Python 2",
   "language": "python",
   "name": "python2"
  },
  "language_info": {
   "codemirror_mode": {
    "name": "ipython",
    "version": 2
   },
   "file_extension": ".py",
   "mimetype": "text/x-python",
   "name": "python",
   "nbconvert_exporter": "python",
   "pygments_lexer": "ipython2",
   "version": "2.7.6"
  }
 },
 "nbformat": 4,
 "nbformat_minor": 0
}
