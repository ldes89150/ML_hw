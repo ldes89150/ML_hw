{
 "cells": [
  {
   "cell_type": "code",
   "execution_count": 1,
   "metadata": {
    "collapsed": true
   },
   "outputs": [],
   "source": [
    "import numpy as np\n",
    "import pandas as pd\n",
    "import matplotlib.pyplot as plt\n",
    "import random\n",
    "%matplotlib inline"
   ]
  },
  {
   "cell_type": "code",
   "execution_count": 2,
   "metadata": {
    "collapsed": true
   },
   "outputs": [],
   "source": [
    "train_data = pd.read_csv(\"hw1_18_train.dat\",\n",
    "                         names = [\"x{0}\".format(i) for i in range(1,5)]+[\"y\"],\n",
    "                         delim_whitespace=True)\n",
    "train_data.insert(0,\"x0\",1)\n",
    "x = np.array(train_data.iloc[:,:-1])\n",
    "y = np.array(train_data[\"y\"])"
   ]
  },
  {
   "cell_type": "code",
   "execution_count": 3,
   "metadata": {
    "collapsed": false
   },
   "outputs": [],
   "source": [
    "def sign(n):\n",
    "    if n>0:\n",
    "        return 1\n",
    "    else:\n",
    "        return -1"
   ]
  },
  {
   "cell_type": "code",
   "execution_count": 4,
   "metadata": {
    "collapsed": true
   },
   "outputs": [],
   "source": [
    "def pocket(w0, update_number, seed = 0, learning_rate = 1.0):\n",
    "    iter_number = 0\n",
    "    random.seed(seed)\n",
    "    w=w0\n",
    "    n = len(y)\n",
    "    learning_rate_vector = np.zeros_like(w0)+learning_rate\n",
    "    learning_rate_vector[0] = 1.0\n",
    "    while iter_number < update_number:\n",
    "        while True:\n",
    "            i = random.randint(0,n-1)\n",
    "            product = sum(x[i]*w)\n",
    "            if not sign(product) == sign(y[i]):\n",
    "                w = w + x[i]*learning_rate_vector*y[i]\n",
    "                iter_number +=1\n",
    "                break\n",
    "    return np.array(w)\n",
    "\n",
    "def PLA(w0, update_number, seed = 0, learning_rate = 1.0):\n",
    "    iter_number = 0\n",
    "    w=w0\n",
    "    n = len(y)\n",
    "    learning_rate_vector = np.zeros_like(w0)+learning_rate\n",
    "    learning_rate_vector[0] = 1.0\n",
    "    j=-1\n",
    "    index_order = range(n)\n",
    "    random.seed(seed)\n",
    "    random.shuffle(index_order)\n",
    "    while iter_number < update_number:\n",
    "        while True:\n",
    "            j+=1\n",
    "            if not j <n:\n",
    "                j=0\n",
    "            i = index_order[j]\n",
    "            product = sum(x[i]*w)\n",
    "            if not sign(product) == sign(y[i]):\n",
    "                w = w + x[i]*learning_rate_vector*y[i]\n",
    "                iter_number +=1\n",
    "                break\n",
    "    return np.array(w)"
   ]
  },
  {
   "cell_type": "code",
   "execution_count": 5,
   "metadata": {
    "collapsed": false
   },
   "outputs": [],
   "source": [
    "test_data = pd.read_csv(\"hw1_18_test.dat\",\n",
    "                        names = [\"x{0}\".format(i) for i in range(1,5)]+[\"y\"],\n",
    "                        delim_whitespace=True)\n",
    "test_data.insert(0,\"x0\",1)\n",
    "tx = np.array(test_data.iloc[:,:-1])\n",
    "ty = np.array(test_data[\"y\"])"
   ]
  },
  {
   "cell_type": "code",
   "execution_count": 6,
   "metadata": {
    "collapsed": false
   },
   "outputs": [],
   "source": [
    "def verify(w):\n",
    "    n = len(ty)\n",
    "    error = 0\n",
    "    for i in range(n):\n",
    "        product = sum(tx[i]*w)\n",
    "        if sign(product) != sign(ty[i]):\n",
    "            error +=1\n",
    "    error = float(error)\n",
    "    return error / n\n",
    "        "
   ]
  },
  {
   "cell_type": "markdown",
   "metadata": {},
   "source": [
    "## Problem 18"
   ]
  },
  {
   "cell_type": "code",
   "execution_count": 7,
   "metadata": {
    "collapsed": false
   },
   "outputs": [],
   "source": [
    "error_rates_p18 = []\n",
    "w0 = np.zeros((5,))\n",
    "for seed in range(2000):\n",
    "    w=pocket(w0, 50, seed=seed)\n",
    "    error_rates_p18.append(verify(w))"
   ]
  },
  {
   "cell_type": "code",
   "execution_count": 8,
   "metadata": {
    "collapsed": false
   },
   "outputs": [
    {
     "name": "stdout",
     "output_type": "stream",
     "text": [
      "Average Error Rate: 0.355984\n"
     ]
    },
    {
     "data": {
      "text/plain": [
       "(array([ 146.,  353.,  523.,  226.,  101.,  101.,   96.,  108.,  124.,  222.]),\n",
       " array([ 0.108 ,  0.1674,  0.2268,  0.2862,  0.3456,  0.405 ,  0.4644,\n",
       "         0.5238,  0.5832,  0.6426,  0.702 ]),\n",
       " <a list of 10 Patch objects>)"
      ]
     },
     "execution_count": 8,
     "metadata": {},
     "output_type": "execute_result"
    },
    {
     "data": {
      "image/png": "[encoded data removed]",
      "text/plain": [
       "<matplotlib.figure.Figure at 0xa662a90>"
      ]
     },
     "metadata": {},
     "output_type": "display_data"
    }
   ],
   "source": [
    "print \"Average Error Rate:\", np.average(error_rates_p18)\n",
    "plt.hist(error_rates_p18)"
   ]
  },
  {
   "cell_type": "markdown",
   "metadata": {},
   "source": [
    "## Problem 19"
   ]
  },
  {
   "cell_type": "code",
   "execution_count": 9,
   "metadata": {
    "collapsed": false
   },
   "outputs": [],
   "source": [
    "error_rates_p19 = []\n",
    "w0 = np.zeros((5,))\n",
    "for seed in range(2000):\n",
    "    w=PLA(w0, 50, seed=seed)\n",
    "    error_rates_p19.append(verify(w))"
   ]
  },
  {
   "cell_type": "code",
   "execution_count": 10,
   "metadata": {
    "collapsed": false
   },
   "outputs": [
    {
     "name": "stdout",
     "output_type": "stream",
     "text": [
      "Average Error Rate: 0.362589\n"
     ]
    },
    {
     "data": {
      "text/plain": [
       "(array([ 151.,  348.,  491.,  218.,   93.,  106.,  126.,  106.,  132.,  229.]),\n",
       " array([ 0.108 ,  0.1674,  0.2268,  0.2862,  0.3456,  0.405 ,  0.4644,\n",
       "         0.5238,  0.5832,  0.6426,  0.702 ]),\n",
       " <a list of 10 Patch objects>)"
      ]
     },
     "execution_count": 10,
     "metadata": {},
     "output_type": "execute_result"
    },
    {
     "data": {
      "image/png": "[encoded data removed]",
      "text/plain": [
       "<matplotlib.figure.Figure at 0xa7ba0b8>"
      ]
     },
     "metadata": {},
     "output_type": "display_data"
    }
   ],
   "source": [
    "print \"Average Error Rate:\", np.average(error_rates_p19)\n",
    "plt.hist(error_rates_p19)"
   ]
  },
  {
   "cell_type": "markdown",
   "metadata": {},
   "source": [
    "## Problem 20"
   ]
  },
  {
   "cell_type": "code",
   "execution_count": 11,
   "metadata": {
    "collapsed": true
   },
   "outputs": [],
   "source": [
    "error_rates_p20 = []\n",
    "w0 = np.zeros((5,))\n",
    "for seed in range(2000):\n",
    "    w=pocket(w0, 100, seed=seed)\n",
    "    error_rates_p20.append(verify(w))"
   ]
  },
  {
   "cell_type": "code",
   "execution_count": 12,
   "metadata": {
    "collapsed": false
   },
   "outputs": [
    {
     "name": "stdout",
     "output_type": "stream",
     "text": [
      "Average Error Rate: 0.322466\n"
     ]
    },
    {
     "data": {
      "text/plain": [
       "(array([ 285.,  336.,  450.,  264.,  129.,  118.,  102.,   90.,   74.,  152.]),\n",
       " array([ 0.1   ,  0.1602,  0.2204,  0.2806,  0.3408,  0.401 ,  0.4612,\n",
       "         0.5214,  0.5816,  0.6418,  0.702 ]),\n",
       " <a list of 10 Patch objects>)"
      ]
     },
     "execution_count": 12,
     "metadata": {},
     "output_type": "execute_result"
    },
    {
     "data": {
      "image/png": "[encoded data removed]",
      "text/plain": [
       "<matplotlib.figure.Figure at 0xa9f5748>"
      ]
     },
     "metadata": {},
     "output_type": "display_data"
    }
   ],
   "source": [
    "print \"Average Error Rate:\", np.average(error_rates_p20)\n",
    "plt.hist(error_rates_p20)"
   ]
  },
  {
   "cell_type": "code",
   "execution_count": null,
   "metadata": {
    "collapsed": true
   },
   "outputs": [],
   "source": []
  }
 ],
 "metadata": {
  "kernelspec": {
   "display_name": "Python 2",
   "language": "python",
   "name": "python2"
  },
  "language_info": {
   "codemirror_mode": {
    "name": "ipython",
    "version": 2
   },
   "file_extension": ".py",
   "mimetype": "text/x-python",
   "name": "python",
   "nbconvert_exporter": "python",
   "pygments_lexer": "ipython2",
   "version": "2.7.6"
  }
 },
 "nbformat": 4,
 "nbformat_minor": 0
}
