{
 "cells": [
  {
   "cell_type": "code",
   "execution_count": 1,
   "metadata": {
    "collapsed": true
   },
   "outputs": [],
   "source": [
    "import numpy as np\n",
    "import pandas as pd\n",
    "import matplotlib.pyplot as plt\n",
    "from numba import jit\n",
    "import numexpr as ne\n",
    "plt.style.use('ggplot')\n",
    "%matplotlib inline"
   ]
  },
  {
   "cell_type": "code",
   "execution_count": 2,
   "metadata": {
    "collapsed": true
   },
   "outputs": [],
   "source": [
    "train_data = pd.read_csv(\"http://www.csie.ntu.edu.tw/~htlin/course/ml15fall/hw8/hw8_train.dat\", header=None, delim_whitespace = True)\n",
    "train_x = np.array(train_data.iloc[:,:-1])\n",
    "train_y = np.array(train_data.iloc[:,-1])\n",
    "test_data = pd.read_csv(\"http://www.csie.ntu.edu.tw/~htlin/course/ml15fall/hw8/hw8_test.dat\", header=None, delim_whitespace = True)\n",
    "test_x = np.array(test_data.iloc[:,:-1])\n",
    "test_y = np.array(test_data.iloc[:,-1])"
   ]
  },
  {
   "cell_type": "code",
   "execution_count": 3,
   "metadata": {
    "collapsed": true
   },
   "outputs": [],
   "source": [
    "from scipy.spatial import distance_matrix"
   ]
  },
  {
   "cell_type": "code",
   "execution_count": 4,
   "metadata": {
    "collapsed": false
   },
   "outputs": [],
   "source": [
    "class KNearestNeighbor():\n",
    "    def __init__(self, k = 1):\n",
    "        self.k = k\n",
    "        self.x = None\n",
    "        self.y = None\n",
    "        \n",
    "    def fit(self, x, y):\n",
    "        self.x = x\n",
    "        self.y = y\n",
    "        \n",
    "    def predict(self, x, rbf = False):\n",
    "        dm = distance_matrix(x, self.x)\n",
    "        arg_s = dm.argsort(axis=1)\n",
    "        nearest_y = np.array([self.y[idx[:self.k]] for idx in arg_s])\n",
    "        return np.sign(nearest_y.mean(axis=1))\n",
    "        "
   ]
  },
  {
   "cell_type": "code",
   "execution_count": 5,
   "metadata": {
    "collapsed": true
   },
   "outputs": [],
   "source": [
    "from sklearn.metrics import zero_one_loss"
   ]
  },
  {
   "cell_type": "code",
   "execution_count": 6,
   "metadata": {
    "collapsed": true
   },
   "outputs": [],
   "source": [
    "k_parameter = (1,3,5,7,9)"
   ]
  },
  {
   "cell_type": "markdown",
   "metadata": {},
   "source": [
    "## Problem 12"
   ]
  },
  {
   "cell_type": "code",
   "execution_count": 7,
   "metadata": {
    "collapsed": false
   },
   "outputs": [],
   "source": [
    "E_in_12 = []\n",
    "for k in k_parameter:\n",
    "    clf = KNearestNeighbor(k = k)\n",
    "    clf.fit(train_x, train_y)\n",
    "    g= clf.predict(train_x)\n",
    "    e_in = zero_one_loss(g, train_y)\n",
    "    E_in_12.append(e_in)"
   ]
  },
  {
   "cell_type": "code",
   "execution_count": 8,
   "metadata": {
    "collapsed": false
   },
   "outputs": [
    {
     "data": {
      "image/png": "[encoded data removed]",
      "text/plain": [
       "<matplotlib.figure.Figure at 0xd4f19b0>"
      ]
     },
     "metadata": {},
     "output_type": "display_data"
    }
   ],
   "source": [
    "plt.plot(k_parameter, E_in_12, 'o')\n",
    "plt.plot(k_parameter, E_in_12)\n",
    "plt.ylim(0,1)\n",
    "plt.xlabel(\"k\")\n",
    "plt.ylabel(\"E_in\")\n",
    "plt.savefig(\"p12\")"
   ]
  },
  {
   "cell_type": "markdown",
   "metadata": {},
   "source": [
    "## Problem 14"
   ]
  },
  {
   "cell_type": "code",
   "execution_count": 9,
   "metadata": {
    "collapsed": true
   },
   "outputs": [],
   "source": [
    "E_out_14 = []\n",
    "for k in k_parameter:\n",
    "    clf = KNearestNeighbor(k = k)\n",
    "    clf.fit(train_x, train_y)\n",
    "    g= clf.predict(test_x)\n",
    "    e = zero_one_loss(g, test_y)\n",
    "    E_out_14.append(e)"
   ]
  },
  {
   "cell_type": "code",
   "execution_count": 10,
   "metadata": {
    "collapsed": false
   },
   "outputs": [
    {
     "data": {
      "image/png": "[encoded data removed]",
      "text/plain": [
       "<matplotlib.figure.Figure at 0xd4ece80>"
      ]
     },
     "metadata": {},
     "output_type": "display_data"
    }
   ],
   "source": [
    "plt.plot(k_parameter, E_out_14, 'o')\n",
    "plt.plot(k_parameter, E_out_14)\n",
    "plt.ylim(0,1)\n",
    "plt.xlabel(\"k\")\n",
    "plt.ylabel(\"E_out\")\n",
    "plt.savefig(\"p14\")"
   ]
  },
  {
   "cell_type": "code",
   "execution_count": 11,
   "metadata": {
    "collapsed": true
   },
   "outputs": [],
   "source": [
    "class RBF():\n",
    "    def __init__(self, gamma):\n",
    "        self.k = k\n",
    "        self.x = None\n",
    "        self.y = None\n",
    "        self.gamma = gamma\n",
    "        \n",
    "    def fit(self, x, y):\n",
    "        self.x = x\n",
    "        self.y = y\n",
    "        \n",
    "    def predict(self, x):\n",
    "        dm = distance_matrix(x, self.x)\n",
    "        return np.sign(np.dot(np.exp(-self.gamma*dm**2), self.y))"
   ]
  },
  {
   "cell_type": "code",
   "execution_count": 12,
   "metadata": {
    "collapsed": true
   },
   "outputs": [],
   "source": [
    "gamma_parameter = (0.001, 0.1, 1, 10, 100)"
   ]
  },
  {
   "cell_type": "markdown",
   "metadata": {},
   "source": [
    "## Problem 16"
   ]
  },
  {
   "cell_type": "code",
   "execution_count": 13,
   "metadata": {
    "collapsed": false
   },
   "outputs": [],
   "source": [
    "E_in_16 = []\n",
    "for gamma in gamma_parameter:\n",
    "    clf = RBF(gamma = gamma)\n",
    "    clf.fit(train_x, train_y)\n",
    "    g= clf.predict(train_x)\n",
    "    e = zero_one_loss(g, train_y)\n",
    "    E_in_16.append(e)"
   ]
  },
  {
   "cell_type": "code",
   "execution_count": 14,
   "metadata": {
    "collapsed": false
   },
   "outputs": [
    {
     "data": {
      "image/png": "[encoded data removed]",
      "text/plain": [
       "<matplotlib.figure.Figure at 0xd766b00>"
      ]
     },
     "metadata": {},
     "output_type": "display_data"
    }
   ],
   "source": [
    "plt.plot(np.log10(gamma_parameter), E_in_16, 'o')\n",
    "plt.plot(np.log10(gamma_parameter), E_in_16)\n",
    "plt.ylim(0,1)\n",
    "plt.xlabel(\"log10(gamma)\")\n",
    "plt.ylabel(\"E_in\")\n",
    "plt.savefig(\"p16\")"
   ]
  },
  {
   "cell_type": "markdown",
   "metadata": {},
   "source": [
    "## Problem 18"
   ]
  },
  {
   "cell_type": "code",
   "execution_count": 15,
   "metadata": {
    "collapsed": false
   },
   "outputs": [],
   "source": [
    "E_out_18 = []\n",
    "for gamma in gamma_parameter:\n",
    "    clf = RBF(gamma = gamma)\n",
    "    clf.fit(train_x, train_y)\n",
    "    g= clf.predict(test_x)\n",
    "    e = zero_one_loss(g, test_y)\n",
    "    E_out_18.append(e)"
   ]
  },
  {
   "cell_type": "code",
   "execution_count": 16,
   "metadata": {
    "collapsed": false
   },
   "outputs": [
    {
     "data": {
      "image/png": "[encoded data removed]",
      "text/plain": [
       "<matplotlib.figure.Figure at 0xd8c79e8>"
      ]
     },
     "metadata": {},
     "output_type": "display_data"
    }
   ],
   "source": [
    "plt.plot(np.log10(gamma_parameter), E_out_18, 'o')\n",
    "plt.plot(np.log10(gamma_parameter), E_out_18)\n",
    "plt.ylim(0,1)\n",
    "plt.xlabel(\"log10(gamma)\")\n",
    "plt.ylabel(\"E_out\")\n",
    "plt.savefig(\"p18\")"
   ]
  }
 ],
 "metadata": {
  "kernelspec": {
   "display_name": "Python 2",
   "language": "python",
   "name": "python2"
  },
  "language_info": {
   "codemirror_mode": {
    "name": "ipython",
    "version": 2
   },
   "file_extension": ".py",
   "mimetype": "text/x-python",
   "name": "python",
   "nbconvert_exporter": "python",
   "pygments_lexer": "ipython2",
   "version": "2.7.6"
  }
 },
 "nbformat": 4,
 "nbformat_minor": 0
}
