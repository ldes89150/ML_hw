{
 "cells": [
  {
   "cell_type": "code",
   "execution_count": 13,
   "metadata": {
    "collapsed": true
   },
   "outputs": [],
   "source": [
    "import numpy as np\n",
    "import pandas as pd\n",
    "import matplotlib.pyplot as plt\n",
    "import random\n",
    "%matplotlib inline"
   ]
  },
  {
   "cell_type": "code",
   "execution_count": 14,
   "metadata": {
    "collapsed": true
   },
   "outputs": [],
   "source": [
    "train_data = pd.read_csv(\"hw1_18_train.dat\",\n",
    "                         names = [\"x{0}\".format(i) for i in range(1,5)]+[\"y\"],\n",
    "                         delim_whitespace=True)\n",
    "train_data.insert(0,\"x0\",1)\n",
    "x = np.array(train_data.iloc[:,:-1])\n",
    "y = np.array(train_data[\"y\"])"
   ]
  },
  {
   "cell_type": "code",
   "execution_count": 15,
   "metadata": {
    "collapsed": false
   },
   "outputs": [],
   "source": [
    "def sign(n):\n",
    "    if n>0:\n",
    "        return 1\n",
    "    else:\n",
    "        return -1"
   ]
  },
  {
   "cell_type": "code",
   "execution_count": 16,
   "metadata": {
    "collapsed": false
   },
   "outputs": [],
   "source": [
    "def verify(w, dx ,dy):\n",
    "    n = len(dy)\n",
    "    error = 0\n",
    "    products = np.sum(w*dx, axis = 1)\n",
    "    for i in xrange(n):\n",
    "        if sign(products[i]) != sign(dy[i]):\n",
    "            error +=1\n",
    "    error = float(error)\n",
    "    return error / n\n",
    "\n",
    "def pocket(w0, update_number, seed = 0, learning_rate = 1.0):\n",
    "    np.random.seed(seed)\n",
    "    w=w0\n",
    "    n = len(y)\n",
    "    learning_rate_vector = np.zeros_like(w0)+learning_rate\n",
    "    learning_rate_vector[0] = 1.0\n",
    "    error_rate = 1.0\n",
    "    pick = np.random.randint(0,n,update_number)\n",
    "    for i in pick:\n",
    "        product = sum(x[i]*w)\n",
    "        if not sign(product) == sign(y[i]):\n",
    "            w_new = w + x[i]*learning_rate_vector*y[i]\n",
    "            error_rate_new = verify(w_new, x, y)\n",
    "            if error_rate_new < error_rate:\n",
    "                w = w_new\n",
    "                error_rate = error_rate_new\n",
    "    return np.array(w)\n",
    "\n",
    "def PLA(w0, update_number, seed = 0, learning_rate = 1.0):\n",
    "    iter_number = 0\n",
    "    w=w0\n",
    "    n = len(y)\n",
    "    learning_rate_vector = np.zeros_like(w0)+learning_rate\n",
    "    learning_rate_vector[0] = 1.0\n",
    "    j=-1\n",
    "    index_order = range(n)\n",
    "    random.seed(seed)\n",
    "    random.shuffle(index_order)\n",
    "    while iter_number < update_number:\n",
    "        while True:\n",
    "            j+=1\n",
    "            if not j <n:\n",
    "                j=0\n",
    "            i = index_order[j]\n",
    "            product = sum(x[i]*w)\n",
    "            if not sign(product) == sign(y[i]):\n",
    "                w = w + x[i]*learning_rate_vector*y[i]\n",
    "                iter_number +=1\n",
    "                break\n",
    "    return np.array(w)"
   ]
  },
  {
   "cell_type": "code",
   "execution_count": 17,
   "metadata": {
    "collapsed": false
   },
   "outputs": [],
   "source": [
    "test_data = pd.read_csv(\"hw1_18_test.dat\",\n",
    "                        names = [\"x{0}\".format(i) for i in range(1,5)]+[\"y\"],\n",
    "                        delim_whitespace=True)\n",
    "test_data.insert(0,\"x0\",1)\n",
    "tx = np.array(test_data.iloc[:,:-1])\n",
    "ty = np.array(test_data[\"y\"])"
   ]
  },
  {
   "cell_type": "markdown",
   "metadata": {},
   "source": [
    "## Problem 18"
   ]
  },
  {
   "cell_type": "code",
   "execution_count": 18,
   "metadata": {
    "collapsed": false
   },
   "outputs": [],
   "source": [
    "error_rates_p18 = []\n",
    "w0 = np.zeros((5,))\n",
    "for seed in range(2000):\n",
    "    w=pocket(w0, 50, seed=seed)\n",
    "    error_rates_p18.append(verify(w,tx,ty))"
   ]
  },
  {
   "cell_type": "code",
   "execution_count": 19,
   "metadata": {
    "collapsed": false
   },
   "outputs": [
    {
     "name": "stdout",
     "output_type": "stream",
     "text": [
      "Average Error Rate: 0.289486\n"
     ]
    },
    {
     "data": {
      "text/plain": [
       "(array([   86.,   308.,  1008.,   388.,   168.,    38.,     0.,     0.,\n",
       "            0.,     4.]),\n",
       " array([ 0.13  ,  0.1872,  0.2444,  0.3016,  0.3588,  0.416 ,  0.4732,\n",
       "         0.5304,  0.5876,  0.6448,  0.702 ]),\n",
       " <a list of 10 Patch objects>)"
      ]
     },
     "execution_count": 19,
     "metadata": {},
     "output_type": "execute_result"
    },
    {
     "data": {
      "image/png": "[encoded data removed]",
      "text/plain": [
       "<matplotlib.figure.Figure at 0xcdcc3c8>"
      ]
     },
     "metadata": {},
     "output_type": "display_data"
    }
   ],
   "source": [
    "print \"Average Error Rate:\", np.average(error_rates_p18)\n",
    "plt.hist(error_rates_p18)"
   ]
  },
  {
   "cell_type": "markdown",
   "metadata": {},
   "source": [
    "## Problem 19"
   ]
  },
  {
   "cell_type": "code",
   "execution_count": 20,
   "metadata": {
    "collapsed": false
   },
   "outputs": [],
   "source": [
    "error_rates_p19 = []\n",
    "w0 = np.zeros((5,))\n",
    "for seed in range(2000):\n",
    "    w=PLA(w0, 50, seed=seed)\n",
    "    error_rates_p19.append(verify(w,tx,ty))"
   ]
  },
  {
   "cell_type": "code",
   "execution_count": 21,
   "metadata": {
    "collapsed": false
   },
   "outputs": [
    {
     "name": "stdout",
     "output_type": "stream",
     "text": [
      "Average Error Rate: 0.362589\n"
     ]
    },
    {
     "data": {
      "text/plain": [
       "(array([ 151.,  348.,  491.,  218.,   93.,  106.,  126.,  106.,  132.,  229.]),\n",
       " array([ 0.108 ,  0.1674,  0.2268,  0.2862,  0.3456,  0.405 ,  0.4644,\n",
       "         0.5238,  0.5832,  0.6426,  0.702 ]),\n",
       " <a list of 10 Patch objects>)"
      ]
     },
     "execution_count": 21,
     "metadata": {},
     "output_type": "execute_result"
    },
    {
     "data": {
      "image/png": "[encoded data removed]",
      "text/plain": [
       "<matplotlib.figure.Figure at 0xab920f0>"
      ]
     },
     "metadata": {},
     "output_type": "display_data"
    }
   ],
   "source": [
    "print \"Average Error Rate:\", np.average(error_rates_p19)\n",
    "plt.hist(error_rates_p19)"
   ]
  },
  {
   "cell_type": "markdown",
   "metadata": {},
   "source": [
    "## Problem 20"
   ]
  },
  {
   "cell_type": "code",
   "execution_count": 22,
   "metadata": {
    "collapsed": false
   },
   "outputs": [],
   "source": [
    "error_rates_p20 = []\n",
    "w0 = np.zeros((5,))\n",
    "for seed in range(2000):\n",
    "    w=pocket(w0, 100, seed=seed)\n",
    "    error_rates_p20.append(verify(w,tx,ty))"
   ]
  },
  {
   "cell_type": "code",
   "execution_count": 23,
   "metadata": {
    "collapsed": false
   },
   "outputs": [
    {
     "name": "stdout",
     "output_type": "stream",
     "text": [
      "Average Error Rate: 0.288441\n"
     ]
    },
    {
     "data": {
      "text/plain": [
       "(array([  23.,  100.,  160.,  275.,  808.,  317.,  146.,  103.,   50.,   18.]),\n",
       " array([ 0.13  ,  0.1638,  0.1976,  0.2314,  0.2652,  0.299 ,  0.3328,\n",
       "         0.3666,  0.4004,  0.4342,  0.468 ]),\n",
       " <a list of 10 Patch objects>)"
      ]
     },
     "execution_count": 23,
     "metadata": {},
     "output_type": "execute_result"
    },
    {
     "data": {
      "image/png": "[encoded data removed]",
      "text/plain": [
       "<matplotlib.figure.Figure at 0xd43d6a0>"
      ]
     },
     "metadata": {},
     "output_type": "display_data"
    }
   ],
   "source": [
    "print \"Average Error Rate:\", np.average(error_rates_p20)\n",
    "plt.hist(error_rates_p20)"
   ]
  }
 ],
 "metadata": {
  "kernelspec": {
   "display_name": "Python 2",
   "language": "python",
   "name": "python2"
  },
  "language_info": {
   "codemirror_mode": {
    "name": "ipython",
    "version": 2
   },
   "file_extension": ".py",
   "mimetype": "text/x-python",
   "name": "python",
   "nbconvert_exporter": "python",
   "pygments_lexer": "ipython2",
   "version": "2.7.6"
  }
 },
 "nbformat": 4,
 "nbformat_minor": 0
}
