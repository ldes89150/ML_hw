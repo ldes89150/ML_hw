{
 "cells": [
  {
   "cell_type": "code",
   "execution_count": 1,
   "metadata": {
    "collapsed": true
   },
   "outputs": [],
   "source": [
    "import numpy as np\n",
    "import matplotlib.pyplot as plt\n",
    "from scipy.linalg import pinv\n",
    "plt.style.use('ggplot')\n",
    "%matplotlib inline"
   ]
  },
  {
   "cell_type": "code",
   "execution_count": 2,
   "metadata": {
    "collapsed": true
   },
   "outputs": [],
   "source": [
    "# define target functoin\n",
    "def f(x1, x2):\n",
    "    return np.sign(x1**2 + x2**2 - 0.6)"
   ]
  },
  {
   "cell_type": "code",
   "execution_count": 3,
   "metadata": {
    "collapsed": true
   },
   "outputs": [],
   "source": [
    "def prepare_sample(seed = None):\n",
    "    np.random.seed(seed)\n",
    "    x1 = 2*np.random.random(1000)-1\n",
    "    x2 = 2*np.random.random(1000)-1\n",
    "    y = f(x1, x2)\n",
    "    flip = np.sign(np.random.random(1000)-0.1)\n",
    "    y = flip*y\n",
    "    return np.array([np.zeros(1000)+1,x1, x2]), y"
   ]
  },
  {
   "cell_type": "code",
   "execution_count": 4,
   "metadata": {
    "collapsed": true
   },
   "outputs": [],
   "source": [
    "def linear_regression(x, y):\n",
    "    pinvX = np.linalg.pinv(x)\n",
    "    return np.dot(y, pinvX)"
   ]
  },
  {
   "cell_type": "code",
   "execution_count": 5,
   "metadata": {
    "collapsed": true
   },
   "outputs": [],
   "source": [
    "def transform(x):\n",
    "    return np.array([x[0], x[1], x[2], x[1]*x[2], x[1]**2, x[2]**2])"
   ]
  },
  {
   "cell_type": "code",
   "execution_count": 6,
   "metadata": {
    "collapsed": true
   },
   "outputs": [],
   "source": [
    "def E(g, y):\n",
    "    return 1-np.average(g==y)"
   ]
  },
  {
   "cell_type": "markdown",
   "metadata": {},
   "source": [
    "# Problem 13"
   ]
  },
  {
   "cell_type": "code",
   "execution_count": 7,
   "metadata": {
    "collapsed": false
   },
   "outputs": [
    {
     "name": "stdout",
     "output_type": "stream",
     "text": [
      "0.503475\n"
     ]
    },
    {
     "data": {
      "image/png": "[encoded data removed]",
      "text/plain": [
       "<matplotlib.figure.Figure at 0x33d7a20>"
      ]
     },
     "metadata": {},
     "output_type": "display_data"
    }
   ],
   "source": [
    "E_in_1 = []\n",
    "for i in xrange(1000):\n",
    "    x, y = prepare_sample(i)\n",
    "    #plt.plot(x[1][y==1], x[2][y==1],\".\")\n",
    "    #plt.plot(x[1][y==-1], x[2][y==-1],\".\")\n",
    "    #plt.show()\n",
    "    w = linear_regression(x, y)\n",
    "    g = np.sign(np.dot(w, x))\n",
    "    e = E(g ,y)\n",
    "    E_in_1.append(e)\n",
    "    #plt.plot(x[1][g==1], x[2][g==1],\".\")\n",
    "    #plt.plot(x[1][g==-1], x[2][g==-1],\".\")\n",
    "    #plt.show()\n",
    "print np.average(E_in_1)\n",
    "plt.hist(E_in_1, label = r\"$avg(E_{{in}}) = {0}$\".format(np.average(E_in_1)) )\n",
    "plt.xlabel(r\"$E_{in}$\")\n",
    "plt.ylabel(r\"$count$\")\n",
    "plt.legend(bbox_to_anchor=(0., 1.02, 1., .102), loc=3,\n",
    "           ncol=2, mode=\"expand\", borderaxespad=0.)\n",
    "plt.savefig(\"13\")\n",
    "plt.show()"
   ]
  },
  {
   "cell_type": "markdown",
   "metadata": {},
   "source": [
    "# Problem 14"
   ]
  },
  {
   "cell_type": "code",
   "execution_count": 8,
   "metadata": {
    "collapsed": false
   },
   "outputs": [],
   "source": [
    "visual = False\n",
    "E_out_2 = []\n",
    "w3 = []\n",
    "for i in xrange(1000):\n",
    "    x, y = prepare_sample(i)\n",
    "    x_test, y_test = prepare_sample()\n",
    "    x = transform(x)\n",
    "    x_test = transform(x_test)\n",
    "    \n",
    "    w = linear_regression(x, y)\n",
    "    w3.append(w[3])\n",
    "    g = np.sign(np.dot(w, x_test))\n",
    "    e = E(g ,y_test)\n",
    "    E_out_2.append(e)\n",
    "    if visual:\n",
    "        plt.plot(x_test[1][y_test==1], x_test[2][y_test==1],\".\")\n",
    "        plt.plot(x_test[1][y_test==-1], x_test[2][y_test==-1],\".\")\n",
    "        plt.show()\n",
    "        plt.plot(x_test[1][g==1], x_test[2][g==1],\".\")\n",
    "        plt.plot(x_test[1][g==-1], x_test[2][g==-1],\".\")\n",
    "        plt.show()"
   ]
  },
  {
   "cell_type": "code",
   "execution_count": 9,
   "metadata": {
    "collapsed": false
   },
   "outputs": [
    {
     "name": "stdout",
     "output_type": "stream",
     "text": [
      "-0.00133077541287\n"
     ]
    },
    {
     "data": {
      "image/png": "[encoded data removed]",
      "text/plain": [
       "<matplotlib.figure.Figure at 0x94a9cc0>"
      ]
     },
     "metadata": {},
     "output_type": "display_data"
    }
   ],
   "source": [
    "print np.average(w3)\n",
    "plt.hist(w3, label = r\"$avg(w_3) = {0}$\".format(np.average(w3)))\n",
    "plt.xlabel(r\"$w_3$\")\n",
    "plt.legend(bbox_to_anchor=(0., 1.02, 1., .102), loc=3,\n",
    "           ncol=2, mode=\"expand\", borderaxespad=0.)\n",
    "plt.savefig(\"14\")\n",
    "plt.show()"
   ]
  },
  {
   "cell_type": "markdown",
   "metadata": {},
   "source": [
    "# Problem 15"
   ]
  },
  {
   "cell_type": "code",
   "execution_count": 10,
   "metadata": {
    "collapsed": false
   },
   "outputs": [
    {
     "name": "stdout",
     "output_type": "stream",
     "text": [
      "0.1262\n"
     ]
    },
    {
     "data": {
      "image/png": "[encoded data removed]",
      "text/plain": [
       "<matplotlib.figure.Figure at 0x939d048>"
      ]
     },
     "metadata": {},
     "output_type": "display_data"
    }
   ],
   "source": [
    "print np.average(E_out_2)\n",
    "plt.hist(E_out_2, label = r\"$avg(E_{{out}}) = {0}$\".format(np.average(E_out_2)) )\n",
    "plt.xlabel(r\"$E_{out}$\")\n",
    "plt.legend(bbox_to_anchor=(0., 1.02, 1., .102), loc=3,\n",
    "           ncol=2, mode=\"expand\", borderaxespad=0.)\n",
    "plt.savefig(\"15\")\n",
    "plt.show()"
   ]
  }
 ],
 "metadata": {
  "kernelspec": {
   "display_name": "Python 2",
   "language": "python",
   "name": "python2"
  },
  "language_info": {
   "codemirror_mode": {
    "name": "ipython",
    "version": 2
   },
   "file_extension": ".py",
   "mimetype": "text/x-python",
   "name": "python",
   "nbconvert_exporter": "python",
   "pygments_lexer": "ipython2",
   "version": "2.7.6"
  }
 },
 "nbformat": 4,
 "nbformat_minor": 0
}
