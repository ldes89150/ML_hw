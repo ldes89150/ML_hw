{
 "cells": [
  {
   "cell_type": "code",
   "execution_count": 1,
   "metadata": {
    "collapsed": true
   },
   "outputs": [],
   "source": [
    "import numpy as np\n",
    "import pandas as pd\n",
    "import matplotlib.pyplot as plt\n",
    "import random\n",
    "%matplotlib inline"
   ]
  },
  {
   "cell_type": "code",
   "execution_count": 2,
   "metadata": {
    "collapsed": true
   },
   "outputs": [],
   "source": [
    "train_data = pd.read_csv(\"hw1_18_train.dat\",\n",
    "                         names = [\"x{0}\".format(i) for i in range(1,5)]+[\"y\"],\n",
    "                         delim_whitespace=True)\n",
    "train_data.insert(0,\"x0\",1)\n",
    "x = np.array(train_data.iloc[:,:-1])\n",
    "y = np.array(train_data[\"y\"])"
   ]
  },
  {
   "cell_type": "code",
   "execution_count": 3,
   "metadata": {
    "collapsed": false
   },
   "outputs": [],
   "source": [
    "def sign(n):\n",
    "    return (n>0) and 1 or -1\n",
    "\n",
    "def array_sign(na):\n",
    "    cs = na >0\n",
    "    return np.fromiter((1 if c else -1 for c in cs), dtype = int)"
   ]
  },
  {
   "cell_type": "code",
   "execution_count": 4,
   "metadata": {
    "collapsed": false
   },
   "outputs": [],
   "source": [
    "def verify(w, dx ,dy):\n",
    "    n = len(dy)\n",
    "    error = 0\n",
    "    products = np.sum(w*dx, axis = 1)\n",
    "    error = np.sum(array_sign(products) != dy)\n",
    "    error = float(error)\n",
    "    return error / n\n",
    "\n",
    "\n",
    "def pocket(w0, update_number, seed = 0, learning_rate = 1.0):\n",
    "    np.random.seed(seed)\n",
    "    w=w0\n",
    "    n = len(y)\n",
    "    learning_rate_vector = np.zeros_like(w0)+learning_rate\n",
    "    learning_rate_vector[0] = 1.0\n",
    "    iter_number = 0\n",
    "    ws = [w0]\n",
    "    error_rate_best = verify(w0,x,y)\n",
    "    while iter_number<update_number:\n",
    "        i = np.random.randint(0,n)\n",
    "        product = np.dot(x[i],ws[-1])\n",
    "        if not sign(product) == y[i]:\n",
    "            ws.append(ws[-1] + x[i]*learning_rate_vector*y[i])\n",
    "            error_rate_new = verify(ws[-1], x, y)\n",
    "            iter_number+=1\n",
    "            if error_rate_new < error_rate_best:\n",
    "                w = ws[-1]\n",
    "                error_rate_best = error_rate_new\n",
    "    return np.array(w)\n",
    "\n",
    "def PLA(w0, update_number, seed = 0, learning_rate = 1.0):\n",
    "    iter_number = 0\n",
    "    w=w0\n",
    "    n = len(y)\n",
    "    learning_rate_vector = np.zeros_like(w0)+learning_rate\n",
    "    learning_rate_vector[0] = 1.0\n",
    "    j=-1\n",
    "    index_order = range(n)\n",
    "    random.seed(seed)\n",
    "    random.shuffle(index_order)\n",
    "    while iter_number < update_number:\n",
    "        while True:\n",
    "            j+=1\n",
    "            if not j <n:\n",
    "                j=0\n",
    "            i = index_order[j]\n",
    "            product = sum(x[i]*w)\n",
    "            if not sign(product) == sign(y[i]):\n",
    "                w = w + x[i]*learning_rate_vector*y[i]\n",
    "                iter_number +=1\n",
    "                break\n",
    "    return np.array(w)"
   ]
  },
  {
   "cell_type": "code",
   "execution_count": 5,
   "metadata": {
    "collapsed": false
   },
   "outputs": [],
   "source": [
    "test_data = pd.read_csv(\"hw1_18_test.dat\",\n",
    "                        names = [\"x{0}\".format(i) for i in range(1,5)]+[\"y\"],\n",
    "                        delim_whitespace=True)\n",
    "test_data.insert(0,\"x0\",1)\n",
    "tx = np.array(test_data.iloc[:,:-1])\n",
    "ty = np.array(test_data[\"y\"])"
   ]
  },
  {
   "cell_type": "markdown",
   "metadata": {},
   "source": [
    "## Problem 18"
   ]
  },
  {
   "cell_type": "code",
   "execution_count": 6,
   "metadata": {
    "collapsed": false
   },
   "outputs": [],
   "source": [
    "error_rates_p18 = []\n",
    "w0 = np.zeros((5,))\n",
    "for seed in range(2000):\n",
    "    w=pocket(w0, 50, seed=seed)\n",
    "    error_rates_p18.append(verify(w,tx,ty))"
   ]
  },
  {
   "cell_type": "code",
   "execution_count": 7,
   "metadata": {
    "collapsed": false
   },
   "outputs": [
    {
     "name": "stdout",
     "output_type": "stream",
     "text": [
      "Average Error Rate: 0.132775\n"
     ]
    },
    {
     "data": {
      "text/plain": [
       "(array([ 645.,  486.,  413.,  277.,  115.,   41.,   17.,    5.,    0.,    1.]),\n",
       " array([ 0.1   ,  0.1172,  0.1344,  0.1516,  0.1688,  0.186 ,  0.2032,\n",
       "         0.2204,  0.2376,  0.2548,  0.272 ]),\n",
       " <a list of 10 Patch objects>)"
      ]
     },
     "execution_count": 7,
     "metadata": {},
     "output_type": "execute_result"
    },
    {
     "data": {
      "image/png": "[encoded data removed]",
      "text/plain": [
       "<matplotlib.figure.Figure at 0xb5d5da0>"
      ]
     },
     "metadata": {},
     "output_type": "display_data"
    }
   ],
   "source": [
    "print \"Average Error Rate:\", np.average(error_rates_p18)\n",
    "plt.hist(error_rates_p18)"
   ]
  },
  {
   "cell_type": "markdown",
   "metadata": {},
   "source": [
    "## Problem 19"
   ]
  },
  {
   "cell_type": "code",
   "execution_count": 8,
   "metadata": {
    "collapsed": false
   },
   "outputs": [],
   "source": [
    "error_rates_p19 = []\n",
    "w0 = np.zeros((5,))\n",
    "for seed in range(2000):\n",
    "    w=PLA(w0, 50, seed=seed)\n",
    "    error_rates_p19.append(verify(w,tx,ty))"
   ]
  },
  {
   "cell_type": "code",
   "execution_count": 9,
   "metadata": {
    "collapsed": false
   },
   "outputs": [
    {
     "name": "stdout",
     "output_type": "stream",
     "text": [
      "Average Error Rate: 0.362589\n"
     ]
    },
    {
     "data": {
      "text/plain": [
       "(array([ 151.,  348.,  491.,  218.,   93.,  106.,  126.,  106.,  132.,  229.]),\n",
       " array([ 0.108 ,  0.1674,  0.2268,  0.2862,  0.3456,  0.405 ,  0.4644,\n",
       "         0.5238,  0.5832,  0.6426,  0.702 ]),\n",
       " <a list of 10 Patch objects>)"
      ]
     },
     "execution_count": 9,
     "metadata": {},
     "output_type": "execute_result"
    },
    {
     "data": {
      "image/png": "[encoded data removed]",
      "text/plain": [
       "<matplotlib.figure.Figure at 0xb6046d8>"
      ]
     },
     "metadata": {},
     "output_type": "display_data"
    }
   ],
   "source": [
    "print \"Average Error Rate:\", np.average(error_rates_p19)\n",
    "plt.hist(error_rates_p19)"
   ]
  },
  {
   "cell_type": "markdown",
   "metadata": {},
   "source": [
    "## Problem 20"
   ]
  },
  {
   "cell_type": "code",
   "execution_count": 10,
   "metadata": {
    "collapsed": false
   },
   "outputs": [],
   "source": [
    "error_rates_p20 = []\n",
    "w0 = np.zeros((5,))\n",
    "for seed in range(2000):\n",
    "    w=pocket(w0, 100, seed=seed)\n",
    "    error_rates_p20.append(verify(w,tx,ty))"
   ]
  },
  {
   "cell_type": "code",
   "execution_count": 11,
   "metadata": {
    "collapsed": false
   },
   "outputs": [
    {
     "name": "stdout",
     "output_type": "stream",
     "text": [
      "Average Error Rate: 0.115694\n"
     ]
    },
    {
     "data": {
      "text/plain": [
       "(array([  1.10000000e+03,   4.46000000e+02,   2.48000000e+02,\n",
       "          1.28000000e+02,   4.20000000e+01,   2.20000000e+01,\n",
       "          9.00000000e+00,   4.00000000e+00,   0.00000000e+00,\n",
       "          1.00000000e+00]),\n",
       " array([ 0.1   ,  0.1122,  0.1244,  0.1366,  0.1488,  0.161 ,  0.1732,\n",
       "         0.1854,  0.1976,  0.2098,  0.222 ]),\n",
       " <a list of 10 Patch objects>)"
      ]
     },
     "execution_count": 11,
     "metadata": {},
     "output_type": "execute_result"
    },
    {
     "data": {
      "image/png": "[encoded data removed]",
      "text/plain": [
       "<matplotlib.figure.Figure at 0xb6042e8>"
      ]
     },
     "metadata": {},
     "output_type": "display_data"
    }
   ],
   "source": [
    "print \"Average Error Rate:\", np.average(error_rates_p20)\n",
    "plt.hist(error_rates_p20)"
   ]
  }
 ],
 "metadata": {
  "kernelspec": {
   "display_name": "Python 2",
   "language": "python",
   "name": "python2"
  },
  "language_info": {
   "codemirror_mode": {
    "name": "ipython",
    "version": 2
   },
   "file_extension": ".py",
   "mimetype": "text/x-python",
   "name": "python",
   "nbconvert_exporter": "python",
   "pygments_lexer": "ipython2",
   "version": "2.7.6"
  }
 },
 "nbformat": 4,
 "nbformat_minor": 0
}
