{
 "cells": [
  {
   "cell_type": "code",
   "execution_count": 1,
   "metadata": {
    "collapsed": false
   },
   "outputs": [],
   "source": [
    "import numpy as np\n",
    "import pandas as pd\n",
    "import matplotlib.pyplot as plt\n",
    "plt.style.use('ggplot')\n",
    "%matplotlib inline"
   ]
  },
  {
   "cell_type": "code",
   "execution_count": 2,
   "metadata": {
    "collapsed": true
   },
   "outputs": [],
   "source": [
    "data = pd.read_csv(\"http://www.csie.ntu.edu.tw/~htlin/course/ml15fall/hw8/hw8_nolabel_train.dat\", header=None, delim_whitespace = True)\n",
    "data_x = data.as_matrix()"
   ]
  },
  {
   "cell_type": "code",
   "execution_count": 3,
   "metadata": {
    "collapsed": true
   },
   "outputs": [],
   "source": [
    "from scipy.spatial import distance_matrix"
   ]
  },
  {
   "cell_type": "code",
   "execution_count": 4,
   "metadata": {
    "collapsed": false
   },
   "outputs": [],
   "source": [
    "class KMeanCluster():\n",
    "    def __init__(self, k=3):\n",
    "        self.k = k\n",
    "        self.u = None\n",
    "        self.dm = None\n",
    "        self.group = None\n",
    "    def fit(self, x):\n",
    "        self.group = np.zeros(x.shape[0])\n",
    "        self.u = x[np.random.choice(range(x.shape[0]), self.k)]\n",
    "        while True:\n",
    "            self.dm = distance_matrix(x, self.u)\n",
    "            new_group = np.array([d.argmin() for d in self.dm])\n",
    "            if (new_group == self.group).all():\n",
    "                break\n",
    "            self.group = new_group\n",
    "            self.u = np.array([x[self.group==i].mean(axis = 0) for i in range(self.k)])\n",
    "            self.u = np.nan_to_num(self.u)\n",
    "            \n",
    "    @property    \n",
    "    def e_in(self):\n",
    "        distance = np.array([self.dm[i][self.group[i]] for i in range(self.dm.shape[0])])\n",
    "        return np.mean(distance**2)"
   ]
  },
  {
   "cell_type": "code",
   "execution_count": 5,
   "metadata": {
    "collapsed": false
   },
   "outputs": [
    {
     "name": "stderr",
     "output_type": "stream",
     "text": [
      "C:\\Users\\Gilbert\\AppData\\Local\\Enthought\\Canopy\\User\\lib\\site-packages\\ipykernel\\__main__.py:21: DeprecationWarning: using a non-integer number instead of an integer will result in an error in the future\n",
      "C:\\Users\\Gilbert\\AppData\\Local\\Enthought\\Canopy\\User\\lib\\site-packages\\numpy\\core\\_methods.py:59: RuntimeWarning: Mean of empty slice.\n",
      "  warnings.warn(\"Mean of empty slice.\", RuntimeWarning)\n"
     ]
    }
   ],
   "source": [
    "k_parameter = (2,4,6,8,10)\n",
    "result = pd.DataFrame()\n",
    "for k in k_parameter:\n",
    "    e = []\n",
    "    clf = KMeanCluster(k=k)\n",
    "    for i in range(500):\n",
    "        clf.fit(data_x)\n",
    "        e.append(clf.e_in)\n",
    "    result[k] = pd.Series(e)\n",
    "    "
   ]
  },
  {
   "cell_type": "code",
   "execution_count": 6,
   "metadata": {
    "collapsed": false
   },
   "outputs": [
    {
     "data": {
      "image/png": "[encoded data removed]",
      "text/plain": [
       "<matplotlib.figure.Figure at 0xc199208>"
      ]
     },
     "metadata": {},
     "output_type": "display_data"
    }
   ],
   "source": [
    "result.mean().plot(yerr = result.std())\n",
    "plt.xlabel(\"k\")\n",
    "plt.ylabel(\"E_in\")\n",
    "plt.savefig(\"p20\")"
   ]
  }
 ],
 "metadata": {
  "kernelspec": {
   "display_name": "Python 2",
   "language": "python",
   "name": "python2"
  },
  "language_info": {
   "codemirror_mode": {
    "name": "ipython",
    "version": 2
   },
   "file_extension": ".py",
   "mimetype": "text/x-python",
   "name": "python",
   "nbconvert_exporter": "python",
   "pygments_lexer": "ipython2",
   "version": "2.7.10"
  }
 },
 "nbformat": 4,
 "nbformat_minor": 0
}
