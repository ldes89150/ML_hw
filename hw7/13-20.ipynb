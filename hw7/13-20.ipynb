{
 "cells": [
  {
   "cell_type": "code",
   "execution_count": 1,
   "metadata": {
    "collapsed": false
   },
   "outputs": [],
   "source": [
    "import numpy as np\n",
    "import pandas as pd\n",
    "import matplotlib.pyplot as plt\n",
    "from numba import jit\n",
    "import numexpr as ne\n",
    "plt.style.use('ggplot')\n",
    "%matplotlib inline"
   ]
  },
  {
   "cell_type": "code",
   "execution_count": 2,
   "metadata": {
    "collapsed": true
   },
   "outputs": [],
   "source": [
    "from sklearn.metrics import zero_one_loss, accuracy_score"
   ]
  },
  {
   "cell_type": "code",
   "execution_count": 3,
   "metadata": {
    "collapsed": false
   },
   "outputs": [],
   "source": [
    "train_data = pd.read_csv(\"http://www.csie.ntu.edu.tw/~htlin/course/ml15fall/hw7/hw7_train.dat\", header=None, delim_whitespace = True)\n",
    "train_x = np.array(train_data.iloc[:,:-1])\n",
    "train_y = np.array(train_data.iloc[:,-1])\n",
    "test_data = pd.read_csv(\"http://www.csie.ntu.edu.tw/~htlin/course/ml15fall/hw7/hw7_test.dat\", header=None, delim_whitespace = True)\n",
    "test_x = np.array(test_data.iloc[:,:-1])\n",
    "test_y = np.array(test_data.iloc[:,-1])"
   ]
  },
  {
   "cell_type": "markdown",
   "metadata": {},
   "source": [
    "# CART"
   ]
  },
  {
   "cell_type": "code",
   "execution_count": 4,
   "metadata": {
    "collapsed": false
   },
   "outputs": [],
   "source": [
    "class DecesionTree():\n",
    "    def __init__(self, tp = \"tree\", depth = 0):\n",
    "        self.tp = tp\n",
    "        self.value = None\n",
    "        self.left = None\n",
    "        self.right = None\n",
    "        self.i = None\n",
    "        self.theta = None\n",
    "        self._gini = 1.\n",
    "        self.depth = depth\n",
    "        \n",
    "        \n",
    "    def fit(self, x, y):\n",
    "        #x = x.copy()\n",
    "        #y = y.copy()\n",
    "        r, g = self._branch(x,y)\n",
    "        if not r:\n",
    "            self.value = y[0]\n",
    "            self.tp = \"leaf\"\n",
    "            return\n",
    "\n",
    "        index_l = (g==-1)\n",
    "        index_r = (g==1)\n",
    "        self.left = DecesionTree(depth = self.depth+1)\n",
    "        self.right = DecesionTree(depth = self.depth+1)\n",
    "        self.left.fit(x[index_l], y[index_l])\n",
    "        self.right.fit(x[index_r], y[index_r])\n",
    "    \n",
    "    def gini(self,y):\n",
    "        N = float(y.shape[0])\n",
    "        return 1-(((y==1).sum())**2 + ((y==-1).sum())**2)/N**2\n",
    "    \n",
    "    def _branch(self, x, y):\n",
    "        self.i = None\n",
    "        self.theta = None\n",
    "        self._gini = self.gini(y)\n",
    "        x_t = x.T.copy()\n",
    "        x_t.sort()\n",
    "        best_g = None\n",
    "        find = False\n",
    "        N = float(y.shape[0])\n",
    "        for i in xrange(x_t.shape[0]):\n",
    "            theta_vector = (x_t[i][:-1]+x_t[i][1:])/2\n",
    "            for j in xrange(len(theta_vector)):\n",
    "                theta = theta_vector[j]\n",
    "                g = np.sign(x.T[i]-theta)\n",
    "                idx_p = (g==1)\n",
    "                idx_n = (g==-1)\n",
    "                frac_p = idx_p.sum()/N\n",
    "                frac_n = idx_n.sum()/N\n",
    "                # print frac_p, frac_n\n",
    "                gini_split = self.gini(y[idx_p])*frac_p + self.gini(y[idx_n])*frac_n\n",
    "                if gini_split < self._gini:\n",
    "                    find = True\n",
    "                    self.theta = theta\n",
    "                    self.i = i\n",
    "                    self._gini = gini_split\n",
    "                    best_g = g\n",
    "        return find, best_g\n",
    "    \n",
    "    def predict(self, x):\n",
    "        g = np.zeros(x.shape[0])\n",
    "        idx = np.ones(x.shape[0], dtype=np.bool)\n",
    "        self._predict(x, g, idx)\n",
    "        return g\n",
    "    \n",
    "    def _predict(self, x, g , idx):\n",
    "        if self.tp == \"leaf\":\n",
    "            g[idx] = self.value\n",
    "            return\n",
    "        _g = np.sign(x.T[self.i]-self.theta)\n",
    "        idx_left = (_g==-1)*idx\n",
    "        idx_right = (_g==1)*idx\n",
    "        self.left._predict(x, g, idx_left)\n",
    "        self.right._predict(x, g, idx_right)\n",
    "        return\n",
    "        \n",
    "    \n",
    "    def __str__(self):\n",
    "        to_return = ''\n",
    "        if self.tp ==\"leaf\":\n",
    "            return ' {0}'.format(self.value)\n",
    "        template = '''{indent}>i = {i}, theta = {theta}\n",
    "{indent}|negative:{left}\n",
    "{indent}|positive:{right}'''\n",
    "        to_return = template.format(i = self.i, theta = self.theta, indent = '|'*self.depth, \n",
    "                               left = str(self.left), right = str(self.right))\n",
    "        if self.depth > 0:\n",
    "            to_return = '\\n' + to_return\n",
    "        return to_return"
   ]
  },
  {
   "cell_type": "markdown",
   "metadata": {},
   "source": [
    "## Problem 13"
   ]
  },
  {
   "cell_type": "code",
   "execution_count": 5,
   "metadata": {
    "collapsed": false
   },
   "outputs": [],
   "source": [
    "t = DecesionTree()"
   ]
  },
  {
   "cell_type": "code",
   "execution_count": 6,
   "metadata": {
    "collapsed": false
   },
   "outputs": [],
   "source": [
    "t.fit(train_x, train_y)"
   ]
  },
  {
   "cell_type": "code",
   "execution_count": 7,
   "metadata": {
    "collapsed": false
   },
   "outputs": [
    {
     "name": "stdout",
     "output_type": "stream",
     "text": [
      ">i = 1, theta = 0.626233\n",
      "|negative:\n",
      "|>i = 0, theta = 0.2244395\n",
      "||negative:\n",
      "||>i = 1, theta = 0.11515275\n",
      "|||negative: 1\n",
      "|||positive: -1\n",
      "||positive:\n",
      "||>i = 0, theta = 0.541508\n",
      "|||negative:\n",
      "|||>i = 1, theta = 0.3586205\n",
      "||||negative:\n",
      "||||>i = 0, theta = 0.501625\n",
      "|||||negative: 1\n",
      "|||||positive: -1\n",
      "||||positive:\n",
      "||||>i = 0, theta = 0.2607515\n",
      "|||||negative: 1\n",
      "|||||positive: -1\n",
      "|||positive:\n",
      "|||>i = 1, theta = 0.285925\n",
      "||||negative:\n",
      "||||>i = 1, theta = 0.2660385\n",
      "|||||negative: 1\n",
      "|||||positive: -1\n",
      "||||positive: 1\n",
      "|positive:\n",
      "|>i = 0, theta = 0.8781715\n",
      "||negative: -1\n",
      "||positive: 1\n"
     ]
    }
   ],
   "source": [
    "print t"
   ]
  },
  {
   "cell_type": "markdown",
   "metadata": {},
   "source": [
    "## Problem 14"
   ]
  },
  {
   "cell_type": "code",
   "execution_count": 8,
   "metadata": {
    "collapsed": false
   },
   "outputs": [
    {
     "name": "stdout",
     "output_type": "stream",
     "text": [
      "E_in = 0.0\n"
     ]
    }
   ],
   "source": [
    "print \"E_in =\", zero_one_loss(t.predict(train_x), train_y)"
   ]
  },
  {
   "cell_type": "markdown",
   "metadata": {},
   "source": [
    "## Problem 15"
   ]
  },
  {
   "cell_type": "code",
   "execution_count": 9,
   "metadata": {
    "collapsed": false
   },
   "outputs": [
    {
     "name": "stdout",
     "output_type": "stream",
     "text": [
      "E_out = 0.126\n"
     ]
    }
   ],
   "source": [
    "print \"E_out =\", zero_one_loss(t.predict(test_x), test_y)"
   ]
  },
  {
   "cell_type": "markdown",
   "metadata": {},
   "source": [
    "# Random Froest"
   ]
  },
  {
   "cell_type": "code",
   "execution_count": 10,
   "metadata": {
    "collapsed": true
   },
   "outputs": [],
   "source": [
    "from sklearn.tree import DecisionTreeClassifier"
   ]
  },
  {
   "cell_type": "code",
   "execution_count": 11,
   "metadata": {
    "collapsed": true
   },
   "outputs": [],
   "source": [
    "class RandomForest():\n",
    "    def __init__(self, T = 5):\n",
    "        self.T = T\n",
    "        self.forest = []\n",
    "    def fit(self, x, y):\n",
    "        N = y.shape[0]\n",
    "        for t in xrange(self.T):\n",
    "            idx = np.random.randint(0,N,N)\n",
    "            tree = DecisionTreeClassifier()\n",
    "            tree.fit(x[idx], y[idx])\n",
    "            self.forest.append(tree)\n",
    "    def predict(self, x, t_num = None):\n",
    "        if not t_num:\n",
    "            t_num = self.T\n",
    "        gs = [t.predict(x) for t in self.forest[:t_num]]\n",
    "        g = np.sign(sum(gs))\n",
    "        return g"
   ]
  },
  {
   "cell_type": "markdown",
   "metadata": {},
   "source": [
    "## Problem 16"
   ]
  },
  {
   "cell_type": "code",
   "execution_count": 12,
   "metadata": {
    "collapsed": true
   },
   "outputs": [],
   "source": [
    "T = 30000"
   ]
  },
  {
   "cell_type": "code",
   "execution_count": 13,
   "metadata": {
    "collapsed": false
   },
   "outputs": [],
   "source": [
    "rf = RandomForest(T = T)"
   ]
  },
  {
   "cell_type": "code",
   "execution_count": 14,
   "metadata": {
    "collapsed": false
   },
   "outputs": [],
   "source": [
    "rf.fit(train_x, train_y)"
   ]
  },
  {
   "cell_type": "code",
   "execution_count": 15,
   "metadata": {
    "collapsed": true
   },
   "outputs": [],
   "source": [
    "index = np.array(xrange(T))+1"
   ]
  },
  {
   "cell_type": "code",
   "execution_count": 16,
   "metadata": {
    "collapsed": false
   },
   "outputs": [],
   "source": [
    "E_in_tree = []\n",
    "g_in = []\n",
    "for tree in rf.forest:\n",
    "    g = tree.predict(train_x)\n",
    "    g_in.append(g)\n",
    "    E_in_tree.append(zero_one_loss(g, train_y))"
   ]
  },
  {
   "cell_type": "code",
   "execution_count": 17,
   "metadata": {
    "collapsed": false
   },
   "outputs": [
    {
     "data": {
      "image/png": "[encoded data removed]",
      "text/plain": [
       "<matplotlib.figure.Figure at 0x1464e908>"
      ]
     },
     "metadata": {},
     "output_type": "display_data"
    }
   ],
   "source": [
    "plt.hist(E_in_tree)\n",
    "plt.xlabel(\"e_in\")\n",
    "plt.ylabel(\"count\")\n",
    "plt.savefig(\"p16\")"
   ]
  },
  {
   "cell_type": "code",
   "execution_count": 18,
   "metadata": {
    "collapsed": false
   },
   "outputs": [
    {
     "data": {
      "text/plain": [
       "0.051887333333333355"
      ]
     },
     "execution_count": 18,
     "metadata": {},
     "output_type": "execute_result"
    }
   ],
   "source": [
    "np.average(E_in_tree)"
   ]
  },
  {
   "cell_type": "markdown",
   "metadata": {},
   "source": [
    "## Problem 17"
   ]
  },
  {
   "cell_type": "code",
   "execution_count": 19,
   "metadata": {
    "collapsed": false
   },
   "outputs": [],
   "source": [
    "G_in = np.sign(np.cumsum(g_in, axis=0))\n",
    "E_in_RF = [zero_one_loss(g, train_y) for g in G_in]"
   ]
  },
  {
   "cell_type": "code",
   "execution_count": 20,
   "metadata": {
    "collapsed": false
   },
   "outputs": [
    {
     "data": {
      "image/png": "[encoded data removed]",
      "text/plain": [
       "<matplotlib.figure.Figure at 0x1464e780>"
      ]
     },
     "metadata": {},
     "output_type": "display_data"
    },
    {
     "data": {
      "image/png": "[encoded data removed]",
      "text/plain": [
       "<matplotlib.figure.Figure at 0x1464e748>"
      ]
     },
     "metadata": {},
     "output_type": "display_data"
    }
   ],
   "source": [
    "plt.plot(index[:100], E_in_RF[:100])\n",
    "plt.xlabel(\"t\")\n",
    "plt.ylabel(\"E_in\")\n",
    "plt.savefig(\"p17-1\")\n",
    "plt.show()\n",
    "plt.plot(index, E_in_RF)\n",
    "plt.xlabel(\"t\")\n",
    "plt.ylabel(\"E_in\")\n",
    "plt.savefig(\"p17-2\")\n",
    "plt.show()"
   ]
  },
  {
   "cell_type": "markdown",
   "metadata": {},
   "source": [
    "## Problem 18"
   ]
  },
  {
   "cell_type": "code",
   "execution_count": 21,
   "metadata": {
    "collapsed": true
   },
   "outputs": [],
   "source": [
    "E_out_tree = []\n",
    "g_out = []\n",
    "for tree in rf.forest:\n",
    "    g = tree.predict(test_x)\n",
    "    g_out.append(g)\n",
    "    E_out_tree.append(zero_one_loss(g, test_y))"
   ]
  },
  {
   "cell_type": "code",
   "execution_count": 22,
   "metadata": {
    "collapsed": false
   },
   "outputs": [],
   "source": [
    "G_out = np.sign(np.cumsum(g_out, axis=0))\n",
    "E_out_RF = [zero_one_loss(g, test_y) for g in G_out]"
   ]
  },
  {
   "cell_type": "code",
   "execution_count": 23,
   "metadata": {
    "collapsed": false
   },
   "outputs": [
    {
     "data": {
      "image/png": "[encoded data removed]",
      "text/plain": [
       "<matplotlib.figure.Figure at 0x16ab1470>"
      ]
     },
     "metadata": {},
     "output_type": "display_data"
    },
    {
     "data": {
      "image/png": "[encoded data removed]",
      "text/plain": [
       "<matplotlib.figure.Figure at 0x16adc2b0>"
      ]
     },
     "metadata": {},
     "output_type": "display_data"
    }
   ],
   "source": [
    "plt.plot(index[:100], E_out_RF[:100])\n",
    "plt.xlabel(\"t\")\n",
    "plt.ylabel(\"E_out\")\n",
    "plt.savefig(\"p18-1\")\n",
    "plt.show()\n",
    "plt.plot(index, E_out_RF)\n",
    "plt.xlabel(\"t\")\n",
    "plt.ylabel(\"E_out\")\n",
    "plt.savefig(\"p18-2\")\n",
    "plt.show()"
   ]
  }
 ],
 "metadata": {
  "kernelspec": {
   "display_name": "Python 2",
   "language": "python",
   "name": "python2"
  },
  "language_info": {
   "codemirror_mode": {
    "name": "ipython",
    "version": 2
   },
   "file_extension": ".py",
   "mimetype": "text/x-python",
   "name": "python",
   "nbconvert_exporter": "python",
   "pygments_lexer": "ipython2",
   "version": "2.7.6"
  }
 },
 "nbformat": 4,
 "nbformat_minor": 0
}
